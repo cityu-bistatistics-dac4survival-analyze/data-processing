{
 "cells": [
  {
   "cell_type": "code",
   "execution_count": 1,
   "metadata": {},
   "outputs": [],
   "source": [
    "import re"
   ]
  },
  {
   "cell_type": "code",
   "execution_count": 2,
   "metadata": {},
   "outputs": [
    {
     "name": "stderr",
     "output_type": "stream",
     "text": [
      "C:\\Users\\15185\\AppData\\Roaming\\Python\\Python37\\site-packages\\pandas\\compat\\_optional.py:138: UserWarning: Pandas requires version '2.7.0' or newer of 'numexpr' (version '2.6.8' currently installed).\n",
      "  warnings.warn(msg, UserWarning)\n",
      "C:\\ProgramData\\Anaconda3\\lib\\site-packages\\IPython\\core\\interactiveshell.py:3267: DtypeWarning: Columns (1,2,9,10,12,13,14,15,16,17,19,20,21,22,23,24,25,26,27,31,32) have mixed types.Specify dtype option on import or set low_memory=False.\n",
      "  exec(code_obj, self.user_global_ns, self.user_ns)\n"
     ]
    }
   ],
   "source": [
    "import pandas as pd\n",
    "import matplotlib.pyplot as plt\n",
    "import seaborn as sns\n",
    "import numpy as np\n",
    "df = pd.read_csv('latestdata.csv')\n"
   ]
  },
  {
   "cell_type": "code",
   "execution_count": 3,
   "metadata": {},
   "outputs": [
    {
     "name": "stdout",
     "output_type": "stream",
     "text": [
      "['ID', 'age', 'sex', 'city', 'province', 'country', 'latitude', 'longitude', 'geo_resolution', 'date_onset_symptoms', 'date_admission_hospital', 'date_confirmation', 'symptoms', 'lives_in_Wuhan', 'travel_history_dates', 'travel_history_location', 'reported_market_exposure', 'additional_information', 'chronic_disease_binary', 'chronic_disease', 'source', 'sequence_available', 'outcome', 'date_death_or_discharge', 'notes_for_discussion', 'location', 'admin3', 'admin2', 'admin1', 'country_new', 'admin_id', 'data_moderator_initials', 'travel_history_binary']\n"
     ]
    }
   ],
   "source": [
    "ColNames = df.columns.tolist()\n",
    "print(ColNames)"
   ]
  },
  {
   "cell_type": "code",
   "execution_count": 4,
   "metadata": {},
   "outputs": [
    {
     "data": {
      "text/plain": [
       "(2676311, 33)"
      ]
     },
     "execution_count": 4,
     "metadata": {},
     "output_type": "execute_result"
    }
   ],
   "source": [
    "df.shape"
   ]
  },
  {
   "cell_type": "code",
   "execution_count": 5,
   "metadata": {},
   "outputs": [],
   "source": [
    "df_full_age = df.dropna(subset=['age'], inplace=False)"
   ]
  },
  {
   "cell_type": "code",
   "execution_count": 6,
   "metadata": {},
   "outputs": [
    {
     "data": {
      "text/plain": [
       "(578018, 33)"
      ]
     },
     "execution_count": 6,
     "metadata": {},
     "output_type": "execute_result"
    }
   ],
   "source": [
    "df_full_age.shape"
   ]
  },
  {
   "cell_type": "code",
   "execution_count": 7,
   "metadata": {},
   "outputs": [],
   "source": [
    "df_full_age_sex = df_full_age.dropna(subset=['sex'], inplace=False)"
   ]
  },
  {
   "cell_type": "code",
   "execution_count": 8,
   "metadata": {},
   "outputs": [
    {
     "data": {
      "text/plain": [
       "(574029, 33)"
      ]
     },
     "execution_count": 8,
     "metadata": {},
     "output_type": "execute_result"
    }
   ],
   "source": [
    "df_full_age_sex.shape"
   ]
  },
  {
   "cell_type": "code",
   "execution_count": 9,
   "metadata": {},
   "outputs": [],
   "source": [
    "df_full_age_sex_onset = df_full_age_sex.dropna(subset=['date_onset_symptoms'], inplace=False)"
   ]
  },
  {
   "cell_type": "code",
   "execution_count": 10,
   "metadata": {},
   "outputs": [
    {
     "data": {
      "text/plain": [
       "(260731, 33)"
      ]
     },
     "execution_count": 10,
     "metadata": {},
     "output_type": "execute_result"
    }
   ],
   "source": [
    "df_full_age_sex_onset.shape"
   ]
  },
  {
   "cell_type": "code",
   "execution_count": 11,
   "metadata": {},
   "outputs": [],
   "source": [
    "df_full_age_sex_onset_confi = df_full_age_sex_onset.dropna(subset=['date_confirmation'], inplace=False)"
   ]
  },
  {
   "cell_type": "code",
   "execution_count": 12,
   "metadata": {},
   "outputs": [
    {
     "data": {
      "text/plain": [
       "(260604, 33)"
      ]
     },
     "execution_count": 12,
     "metadata": {},
     "output_type": "execute_result"
    }
   ],
   "source": [
    "df_full_age_sex_onset_confi.shape"
   ]
  },
  {
   "cell_type": "code",
   "execution_count": 13,
   "metadata": {},
   "outputs": [
    {
     "data": {
      "text/plain": [
       "53                NaN\n",
       "55                NaN\n",
       "335        29.02.2020\n",
       "365               NaN\n",
       "446        02.03.2020\n",
       "              ...    \n",
       "2500872           NaN\n",
       "2500873           NaN\n",
       "2500875           NaN\n",
       "2500876           NaN\n",
       "2500877           NaN\n",
       "Name: date_death_or_discharge, Length: 260604, dtype: object"
      ]
     },
     "execution_count": 13,
     "metadata": {},
     "output_type": "execute_result"
    }
   ],
   "source": [
    "df_full_age_sex_onset_confi[\"date_death_or_discharge\"]"
   ]
  },
  {
   "cell_type": "code",
   "execution_count": 14,
   "metadata": {},
   "outputs": [
    {
     "data": {
      "text/plain": [
       "257981"
      ]
     },
     "execution_count": 14,
     "metadata": {},
     "output_type": "execute_result"
    }
   ],
   "source": [
    "df_full_age_sex_onset_confi.date_death_or_discharge.isnull().sum()"
   ]
  },
  {
   "cell_type": "code",
   "execution_count": 15,
   "metadata": {},
   "outputs": [
    {
     "name": "stderr",
     "output_type": "stream",
     "text": [
      "C:\\ProgramData\\Anaconda3\\lib\\site-packages\\ipykernel_launcher.py:1: SettingWithCopyWarning: \n",
      "A value is trying to be set on a copy of a slice from a DataFrame.\n",
      "Try using .loc[row_indexer,col_indexer] = value instead\n",
      "\n",
      "See the caveats in the documentation: https://pandas.pydata.org/pandas-docs/stable/user_guide/indexing.html#returning-a-view-versus-a-copy\n",
      "  \"\"\"Entry point for launching an IPython kernel.\n",
      "C:\\ProgramData\\Anaconda3\\lib\\site-packages\\ipykernel_launcher.py:2: SettingWithCopyWarning: \n",
      "A value is trying to be set on a copy of a slice from a DataFrame.\n",
      "Try using .loc[row_indexer,col_indexer] = value instead\n",
      "\n",
      "See the caveats in the documentation: https://pandas.pydata.org/pandas-docs/stable/user_guide/indexing.html#returning-a-view-versus-a-copy\n",
      "  \n"
     ]
    }
   ],
   "source": [
    "df_full_age_sex_onset_confi['date_confirmation'] = df_full_age_sex_onset_confi['date_confirmation'].str[:10]\n",
    "df_full_age_sex_onset_confi['date_confirmation'] = pd.to_datetime(df_full_age_sex_onset_confi['date_confirmation'], format=\"%d.%m.%Y\")"
   ]
  },
  {
   "cell_type": "code",
   "execution_count": 16,
   "metadata": {},
   "outputs": [
    {
     "name": "stderr",
     "output_type": "stream",
     "text": [
      "C:\\ProgramData\\Anaconda3\\lib\\site-packages\\ipykernel_launcher.py:1: SettingWithCopyWarning: \n",
      "A value is trying to be set on a copy of a slice from a DataFrame.\n",
      "Try using .loc[row_indexer,col_indexer] = value instead\n",
      "\n",
      "See the caveats in the documentation: https://pandas.pydata.org/pandas-docs/stable/user_guide/indexing.html#returning-a-view-versus-a-copy\n",
      "  \"\"\"Entry point for launching an IPython kernel.\n",
      "C:\\ProgramData\\Anaconda3\\lib\\site-packages\\ipykernel_launcher.py:2: SettingWithCopyWarning: \n",
      "A value is trying to be set on a copy of a slice from a DataFrame.\n",
      "Try using .loc[row_indexer,col_indexer] = value instead\n",
      "\n",
      "See the caveats in the documentation: https://pandas.pydata.org/pandas-docs/stable/user_guide/indexing.html#returning-a-view-versus-a-copy\n",
      "  \n"
     ]
    }
   ],
   "source": [
    "df_full_age_sex_onset_confi['date_onset_symptoms'] = df_full_age_sex_onset_confi['date_onset_symptoms'].str[:10]\n",
    "df_full_age_sex_onset_confi['date_onset_symptoms'] = pd.to_datetime(df_full_age_sex_onset_confi['date_onset_symptoms'], format=\"%d.%m.%Y\")"
   ]
  },
  {
   "cell_type": "code",
   "execution_count": 17,
   "metadata": {},
   "outputs": [
    {
     "name": "stderr",
     "output_type": "stream",
     "text": [
      "C:\\ProgramData\\Anaconda3\\lib\\site-packages\\ipykernel_launcher.py:1: SettingWithCopyWarning: \n",
      "A value is trying to be set on a copy of a slice from a DataFrame.\n",
      "Try using .loc[row_indexer,col_indexer] = value instead\n",
      "\n",
      "See the caveats in the documentation: https://pandas.pydata.org/pandas-docs/stable/user_guide/indexing.html#returning-a-view-versus-a-copy\n",
      "  \"\"\"Entry point for launching an IPython kernel.\n",
      "C:\\ProgramData\\Anaconda3\\lib\\site-packages\\ipykernel_launcher.py:2: SettingWithCopyWarning: \n",
      "A value is trying to be set on a copy of a slice from a DataFrame.\n",
      "Try using .loc[row_indexer,col_indexer] = value instead\n",
      "\n",
      "See the caveats in the documentation: https://pandas.pydata.org/pandas-docs/stable/user_guide/indexing.html#returning-a-view-versus-a-copy\n",
      "  \n"
     ]
    }
   ],
   "source": [
    "df_full_age_sex_onset_confi['date_death_or_discharge'] = df_full_age_sex_onset_confi['date_death_or_discharge'].str[:10]\n",
    "df_full_age_sex_onset_confi['date_death_or_discharge'] = pd.to_datetime(df_full_age_sex_onset_confi['date_death_or_discharge'], format=\"%d.%m.%Y\")"
   ]
  },
  {
   "cell_type": "code",
   "execution_count": 18,
   "metadata": {},
   "outputs": [
    {
     "name": "stderr",
     "output_type": "stream",
     "text": [
      "C:\\ProgramData\\Anaconda3\\lib\\site-packages\\ipykernel_launcher.py:1: SettingWithCopyWarning: \n",
      "A value is trying to be set on a copy of a slice from a DataFrame.\n",
      "Try using .loc[row_indexer,col_indexer] = value instead\n",
      "\n",
      "See the caveats in the documentation: https://pandas.pydata.org/pandas-docs/stable/user_guide/indexing.html#returning-a-view-versus-a-copy\n",
      "  \"\"\"Entry point for launching an IPython kernel.\n"
     ]
    }
   ],
   "source": [
    "df_full_age_sex_onset_confi['censor_time'] = (df_full_age_sex_onset_confi['date_confirmation'] - df_full_age_sex_onset_confi['date_onset_symptoms']).dt.days"
   ]
  },
  {
   "cell_type": "code",
   "execution_count": 19,
   "metadata": {},
   "outputs": [
    {
     "name": "stderr",
     "output_type": "stream",
     "text": [
      "C:\\ProgramData\\Anaconda3\\lib\\site-packages\\ipykernel_launcher.py:1: SettingWithCopyWarning: \n",
      "A value is trying to be set on a copy of a slice from a DataFrame.\n",
      "Try using .loc[row_indexer,col_indexer] = value instead\n",
      "\n",
      "See the caveats in the documentation: https://pandas.pydata.org/pandas-docs/stable/user_guide/indexing.html#returning-a-view-versus-a-copy\n",
      "  \"\"\"Entry point for launching an IPython kernel.\n"
     ]
    }
   ],
   "source": [
    "df_full_age_sex_onset_confi['event_time'] = (df_full_age_sex_onset_confi['date_death_or_discharge'] - df_full_age_sex_onset_confi['date_onset_symptoms']).dt.days"
   ]
  },
  {
   "cell_type": "code",
   "execution_count": 20,
   "metadata": {
    "scrolled": true
   },
   "outputs": [
    {
     "data": {
      "text/plain": [
       "53          NaN\n",
       "55          NaN\n",
       "335        30.0\n",
       "365         NaN\n",
       "446        20.0\n",
       "           ... \n",
       "2500872     NaN\n",
       "2500873     NaN\n",
       "2500875     NaN\n",
       "2500876     NaN\n",
       "2500877     NaN\n",
       "Name: event_time, Length: 260604, dtype: float64"
      ]
     },
     "execution_count": 20,
     "metadata": {},
     "output_type": "execute_result"
    }
   ],
   "source": [
    "df_full_age_sex_onset_confi['event_time']"
   ]
  },
  {
   "cell_type": "code",
   "execution_count": 21,
   "metadata": {},
   "outputs": [],
   "source": [
    "df_last = df_full_age_sex_onset_confi"
   ]
  },
  {
   "cell_type": "code",
   "execution_count": 22,
   "metadata": {},
   "outputs": [
    {
     "name": "stderr",
     "output_type": "stream",
     "text": [
      "C:\\ProgramData\\Anaconda3\\lib\\site-packages\\ipykernel_launcher.py:1: SettingWithCopyWarning: \n",
      "A value is trying to be set on a copy of a slice from a DataFrame.\n",
      "Try using .loc[row_indexer,col_indexer] = value instead\n",
      "\n",
      "See the caveats in the documentation: https://pandas.pydata.org/pandas-docs/stable/user_guide/indexing.html#returning-a-view-versus-a-copy\n",
      "  \"\"\"Entry point for launching an IPython kernel.\n"
     ]
    }
   ],
   "source": [
    "df_last['time'] = df_last['event_time'].fillna(df_last['censor_time']).where(df_last['event_time'].notnull() & (df_last['event_time'] >= df_last['censor_time']), df_last['censor_time'])"
   ]
  },
  {
   "cell_type": "code",
   "execution_count": 23,
   "metadata": {},
   "outputs": [
    {
     "data": {
      "text/plain": [
       "53          6.0\n",
       "55         12.0\n",
       "335        30.0\n",
       "365         2.0\n",
       "446        20.0\n",
       "           ... \n",
       "2500872     3.0\n",
       "2500873     2.0\n",
       "2500875     3.0\n",
       "2500876     0.0\n",
       "2500877     1.0\n",
       "Name: time, Length: 260604, dtype: float64"
      ]
     },
     "execution_count": 23,
     "metadata": {},
     "output_type": "execute_result"
    }
   ],
   "source": [
    "df_last['time']"
   ]
  },
  {
   "cell_type": "code",
   "execution_count": 24,
   "metadata": {
    "scrolled": true
   },
   "outputs": [
    {
     "data": {
      "text/plain": [
       "0"
      ]
     },
     "execution_count": 24,
     "metadata": {},
     "output_type": "execute_result"
    }
   ],
   "source": [
    "df_last.time.isnull().sum()"
   ]
  },
  {
   "cell_type": "code",
   "execution_count": 25,
   "metadata": {},
   "outputs": [
    {
     "name": "stderr",
     "output_type": "stream",
     "text": [
      "C:\\ProgramData\\Anaconda3\\lib\\site-packages\\ipykernel_launcher.py:1: SettingWithCopyWarning: \n",
      "A value is trying to be set on a copy of a slice from a DataFrame.\n",
      "Try using .loc[row_indexer,col_indexer] = value instead\n",
      "\n",
      "See the caveats in the documentation: https://pandas.pydata.org/pandas-docs/stable/user_guide/indexing.html#returning-a-view-versus-a-copy\n",
      "  \"\"\"Entry point for launching an IPython kernel.\n"
     ]
    }
   ],
   "source": [
    "df_last['status'] = df_last['event_time'].notnull().astype(int)"
   ]
  },
  {
   "cell_type": "code",
   "execution_count": 26,
   "metadata": {
    "scrolled": true
   },
   "outputs": [
    {
     "data": {
      "text/plain": [
       "53         0\n",
       "55         0\n",
       "335        1\n",
       "365        0\n",
       "446        1\n",
       "          ..\n",
       "2500872    0\n",
       "2500873    0\n",
       "2500875    0\n",
       "2500876    0\n",
       "2500877    0\n",
       "Name: status, Length: 260604, dtype: int32"
      ]
     },
     "execution_count": 26,
     "metadata": {},
     "output_type": "execute_result"
    }
   ],
   "source": [
    "df_last['status']"
   ]
  },
  {
   "cell_type": "code",
   "execution_count": 27,
   "metadata": {},
   "outputs": [
    {
     "data": {
      "text/plain": [
       "257981"
      ]
     },
     "execution_count": 27,
     "metadata": {},
     "output_type": "execute_result"
    }
   ],
   "source": [
    "df_last.date_death_or_discharge.isnull().sum()"
   ]
  },
  {
   "cell_type": "code",
   "execution_count": 28,
   "metadata": {},
   "outputs": [
    {
     "data": {
      "text/plain": [
       "257981"
      ]
     },
     "execution_count": 28,
     "metadata": {},
     "output_type": "execute_result"
    }
   ],
   "source": [
    "(df_last['status'] == 0).sum()"
   ]
  },
  {
   "cell_type": "code",
   "execution_count": 29,
   "metadata": {},
   "outputs": [
    {
     "name": "stdout",
     "output_type": "stream",
     "text": [
      "['ID', 'age', 'sex', 'city', 'province', 'country', 'latitude', 'longitude', 'geo_resolution', 'date_onset_symptoms', 'date_admission_hospital', 'date_confirmation', 'symptoms', 'lives_in_Wuhan', 'travel_history_dates', 'travel_history_location', 'reported_market_exposure', 'additional_information', 'chronic_disease_binary', 'chronic_disease', 'source', 'sequence_available', 'outcome', 'date_death_or_discharge', 'notes_for_discussion', 'location', 'admin3', 'admin2', 'admin1', 'country_new', 'admin_id', 'data_moderator_initials', 'travel_history_binary']\n"
     ]
    },
    {
     "data": {
      "text/plain": [
       "33"
      ]
     },
     "execution_count": 29,
     "metadata": {},
     "output_type": "execute_result"
    }
   ],
   "source": [
    "print(ColNames)\n",
    "len(ColNames)"
   ]
  },
  {
   "cell_type": "code",
   "execution_count": 30,
   "metadata": {},
   "outputs": [],
   "source": [
    "df_last_toreg = df_last[['ID','age','status','time', 'country', 'latitude', 'longitude', 'symptoms','chronic_disease_binary', 'chronic_disease', 'outcome']]"
   ]
  },
  {
   "cell_type": "code",
   "execution_count": 31,
   "metadata": {},
   "outputs": [
    {
     "data": {
      "text/html": [
       "<div>\n",
       "<style scoped>\n",
       "    .dataframe tbody tr th:only-of-type {\n",
       "        vertical-align: middle;\n",
       "    }\n",
       "\n",
       "    .dataframe tbody tr th {\n",
       "        vertical-align: top;\n",
       "    }\n",
       "\n",
       "    .dataframe thead th {\n",
       "        text-align: right;\n",
       "    }\n",
       "</style>\n",
       "<table border=\"1\" class=\"dataframe\">\n",
       "  <thead>\n",
       "    <tr style=\"text-align: right;\">\n",
       "      <th></th>\n",
       "      <th>ID</th>\n",
       "      <th>age</th>\n",
       "      <th>status</th>\n",
       "      <th>time</th>\n",
       "      <th>country</th>\n",
       "      <th>latitude</th>\n",
       "      <th>longitude</th>\n",
       "      <th>symptoms</th>\n",
       "      <th>chronic_disease_binary</th>\n",
       "      <th>chronic_disease</th>\n",
       "      <th>outcome</th>\n",
       "    </tr>\n",
       "  </thead>\n",
       "  <tbody>\n",
       "    <tr>\n",
       "      <th>53</th>\n",
       "      <td>000-1-10045</td>\n",
       "      <td>50</td>\n",
       "      <td>0</td>\n",
       "      <td>6.0</td>\n",
       "      <td>China</td>\n",
       "      <td>42.944450</td>\n",
       "      <td>125.176200</td>\n",
       "      <td>NaN</td>\n",
       "      <td>False</td>\n",
       "      <td>NaN</td>\n",
       "      <td>NaN</td>\n",
       "    </tr>\n",
       "    <tr>\n",
       "      <th>55</th>\n",
       "      <td>000-1-10047</td>\n",
       "      <td>45</td>\n",
       "      <td>0</td>\n",
       "      <td>12.0</td>\n",
       "      <td>China</td>\n",
       "      <td>43.759480</td>\n",
       "      <td>123.695600</td>\n",
       "      <td>NaN</td>\n",
       "      <td>False</td>\n",
       "      <td>NaN</td>\n",
       "      <td>NaN</td>\n",
       "    </tr>\n",
       "    <tr>\n",
       "      <th>335</th>\n",
       "      <td>000-1-103</td>\n",
       "      <td>79</td>\n",
       "      <td>1</td>\n",
       "      <td>30.0</td>\n",
       "      <td>Singapore</td>\n",
       "      <td>1.353873</td>\n",
       "      <td>103.860478</td>\n",
       "      <td>NaN</td>\n",
       "      <td>False</td>\n",
       "      <td>NaN</td>\n",
       "      <td>discharge</td>\n",
       "    </tr>\n",
       "    <tr>\n",
       "      <th>365</th>\n",
       "      <td>000-1-10326</td>\n",
       "      <td>50</td>\n",
       "      <td>0</td>\n",
       "      <td>2.0</td>\n",
       "      <td>Japan</td>\n",
       "      <td>35.450850</td>\n",
       "      <td>139.665100</td>\n",
       "      <td>NaN</td>\n",
       "      <td>False</td>\n",
       "      <td>NaN</td>\n",
       "      <td>NaN</td>\n",
       "    </tr>\n",
       "    <tr>\n",
       "      <th>446</th>\n",
       "      <td>000-1-104</td>\n",
       "      <td>26</td>\n",
       "      <td>1</td>\n",
       "      <td>20.0</td>\n",
       "      <td>Singapore</td>\n",
       "      <td>1.353460</td>\n",
       "      <td>103.815100</td>\n",
       "      <td>NaN</td>\n",
       "      <td>False</td>\n",
       "      <td>NaN</td>\n",
       "      <td>discharge</td>\n",
       "    </tr>\n",
       "  </tbody>\n",
       "</table>\n",
       "</div>"
      ],
      "text/plain": [
       "              ID age  status  time    country   latitude   longitude symptoms  \\\n",
       "53   000-1-10045  50       0   6.0      China  42.944450  125.176200      NaN   \n",
       "55   000-1-10047  45       0  12.0      China  43.759480  123.695600      NaN   \n",
       "335    000-1-103  79       1  30.0  Singapore   1.353873  103.860478      NaN   \n",
       "365  000-1-10326  50       0   2.0      Japan  35.450850  139.665100      NaN   \n",
       "446    000-1-104  26       1  20.0  Singapore   1.353460  103.815100      NaN   \n",
       "\n",
       "     chronic_disease_binary chronic_disease    outcome  \n",
       "53                    False             NaN        NaN  \n",
       "55                    False             NaN        NaN  \n",
       "335                   False             NaN  discharge  \n",
       "365                   False             NaN        NaN  \n",
       "446                   False             NaN  discharge  "
      ]
     },
     "execution_count": 31,
     "metadata": {},
     "output_type": "execute_result"
    }
   ],
   "source": [
    "df_last_toreg.head()"
   ]
  },
  {
   "cell_type": "code",
   "execution_count": 32,
   "metadata": {
    "scrolled": true
   },
   "outputs": [
    {
     "name": "stderr",
     "output_type": "stream",
     "text": [
      "C:\\Users\\15185\\AppData\\Roaming\\Python\\Python37\\site-packages\\pandas\\core\\generic.py:6392: SettingWithCopyWarning: \n",
      "A value is trying to be set on a copy of a slice from a DataFrame\n",
      "\n",
      "See the caveats in the documentation: https://pandas.pydata.org/pandas-docs/stable/user_guide/indexing.html#returning-a-view-versus-a-copy\n",
      "  return self._update_inplace(result)\n"
     ]
    }
   ],
   "source": [
    "df_last_toreg['chronic_disease'].fillna(0, inplace=True)"
   ]
  },
  {
   "cell_type": "code",
   "execution_count": 33,
   "metadata": {},
   "outputs": [],
   "source": [
    "df_last_toreg['symptoms'].fillna(0, inplace=True)"
   ]
  },
  {
   "cell_type": "code",
   "execution_count": 34,
   "metadata": {
    "scrolled": false
   },
   "outputs": [
    {
     "data": {
      "text/html": [
       "<div>\n",
       "<style scoped>\n",
       "    .dataframe tbody tr th:only-of-type {\n",
       "        vertical-align: middle;\n",
       "    }\n",
       "\n",
       "    .dataframe tbody tr th {\n",
       "        vertical-align: top;\n",
       "    }\n",
       "\n",
       "    .dataframe thead th {\n",
       "        text-align: right;\n",
       "    }\n",
       "</style>\n",
       "<table border=\"1\" class=\"dataframe\">\n",
       "  <thead>\n",
       "    <tr style=\"text-align: right;\">\n",
       "      <th></th>\n",
       "      <th>ID</th>\n",
       "      <th>age</th>\n",
       "      <th>status</th>\n",
       "      <th>time</th>\n",
       "      <th>country</th>\n",
       "      <th>latitude</th>\n",
       "      <th>longitude</th>\n",
       "      <th>symptoms</th>\n",
       "      <th>chronic_disease_binary</th>\n",
       "      <th>chronic_disease</th>\n",
       "      <th>outcome</th>\n",
       "    </tr>\n",
       "  </thead>\n",
       "  <tbody>\n",
       "    <tr>\n",
       "      <th>53</th>\n",
       "      <td>000-1-10045</td>\n",
       "      <td>50</td>\n",
       "      <td>0</td>\n",
       "      <td>6.0</td>\n",
       "      <td>China</td>\n",
       "      <td>42.944450</td>\n",
       "      <td>125.176200</td>\n",
       "      <td>0</td>\n",
       "      <td>False</td>\n",
       "      <td>0</td>\n",
       "      <td>NaN</td>\n",
       "    </tr>\n",
       "    <tr>\n",
       "      <th>55</th>\n",
       "      <td>000-1-10047</td>\n",
       "      <td>45</td>\n",
       "      <td>0</td>\n",
       "      <td>12.0</td>\n",
       "      <td>China</td>\n",
       "      <td>43.759480</td>\n",
       "      <td>123.695600</td>\n",
       "      <td>0</td>\n",
       "      <td>False</td>\n",
       "      <td>0</td>\n",
       "      <td>NaN</td>\n",
       "    </tr>\n",
       "    <tr>\n",
       "      <th>335</th>\n",
       "      <td>000-1-103</td>\n",
       "      <td>79</td>\n",
       "      <td>1</td>\n",
       "      <td>30.0</td>\n",
       "      <td>Singapore</td>\n",
       "      <td>1.353873</td>\n",
       "      <td>103.860478</td>\n",
       "      <td>0</td>\n",
       "      <td>False</td>\n",
       "      <td>0</td>\n",
       "      <td>discharge</td>\n",
       "    </tr>\n",
       "    <tr>\n",
       "      <th>365</th>\n",
       "      <td>000-1-10326</td>\n",
       "      <td>50</td>\n",
       "      <td>0</td>\n",
       "      <td>2.0</td>\n",
       "      <td>Japan</td>\n",
       "      <td>35.450850</td>\n",
       "      <td>139.665100</td>\n",
       "      <td>0</td>\n",
       "      <td>False</td>\n",
       "      <td>0</td>\n",
       "      <td>NaN</td>\n",
       "    </tr>\n",
       "    <tr>\n",
       "      <th>446</th>\n",
       "      <td>000-1-104</td>\n",
       "      <td>26</td>\n",
       "      <td>1</td>\n",
       "      <td>20.0</td>\n",
       "      <td>Singapore</td>\n",
       "      <td>1.353460</td>\n",
       "      <td>103.815100</td>\n",
       "      <td>0</td>\n",
       "      <td>False</td>\n",
       "      <td>0</td>\n",
       "      <td>discharge</td>\n",
       "    </tr>\n",
       "  </tbody>\n",
       "</table>\n",
       "</div>"
      ],
      "text/plain": [
       "              ID age  status  time    country   latitude   longitude symptoms  \\\n",
       "53   000-1-10045  50       0   6.0      China  42.944450  125.176200        0   \n",
       "55   000-1-10047  45       0  12.0      China  43.759480  123.695600        0   \n",
       "335    000-1-103  79       1  30.0  Singapore   1.353873  103.860478        0   \n",
       "365  000-1-10326  50       0   2.0      Japan  35.450850  139.665100        0   \n",
       "446    000-1-104  26       1  20.0  Singapore   1.353460  103.815100        0   \n",
       "\n",
       "     chronic_disease_binary chronic_disease    outcome  \n",
       "53                    False               0        NaN  \n",
       "55                    False               0        NaN  \n",
       "335                   False               0  discharge  \n",
       "365                   False               0        NaN  \n",
       "446                   False               0  discharge  "
      ]
     },
     "execution_count": 34,
     "metadata": {},
     "output_type": "execute_result"
    }
   ],
   "source": [
    "df_last_toreg.head(5)"
   ]
  },
  {
   "cell_type": "code",
   "execution_count": 35,
   "metadata": {
    "scrolled": true
   },
   "outputs": [
    {
     "data": {
      "text/html": [
       "<div>\n",
       "<style scoped>\n",
       "    .dataframe tbody tr th:only-of-type {\n",
       "        vertical-align: middle;\n",
       "    }\n",
       "\n",
       "    .dataframe tbody tr th {\n",
       "        vertical-align: top;\n",
       "    }\n",
       "\n",
       "    .dataframe thead th {\n",
       "        text-align: right;\n",
       "    }\n",
       "</style>\n",
       "<table border=\"1\" class=\"dataframe\">\n",
       "  <thead>\n",
       "    <tr style=\"text-align: right;\">\n",
       "      <th></th>\n",
       "      <th>ID</th>\n",
       "      <th>age</th>\n",
       "      <th>status</th>\n",
       "      <th>time</th>\n",
       "      <th>country</th>\n",
       "      <th>latitude</th>\n",
       "      <th>longitude</th>\n",
       "      <th>symptoms</th>\n",
       "      <th>chronic_disease_binary</th>\n",
       "      <th>chronic_disease</th>\n",
       "      <th>outcome</th>\n",
       "    </tr>\n",
       "  </thead>\n",
       "  <tbody>\n",
       "    <tr>\n",
       "      <th>1994</th>\n",
       "      <td>000-1-11793</td>\n",
       "      <td>80-89</td>\n",
       "      <td>0</td>\n",
       "      <td>17.0</td>\n",
       "      <td>NaN</td>\n",
       "      <td>23.759470</td>\n",
       "      <td>120.955900</td>\n",
       "      <td>0</td>\n",
       "      <td>True</td>\n",
       "      <td>hypertension; diabetes</td>\n",
       "      <td>NaN</td>\n",
       "    </tr>\n",
       "    <tr>\n",
       "      <th>4334</th>\n",
       "      <td>000-1-139</td>\n",
       "      <td>50-59</td>\n",
       "      <td>1</td>\n",
       "      <td>9.0</td>\n",
       "      <td>Canada</td>\n",
       "      <td>43.725290</td>\n",
       "      <td>-79.387000</td>\n",
       "      <td>0</td>\n",
       "      <td>True</td>\n",
       "      <td>hypertension</td>\n",
       "      <td>discharged</td>\n",
       "    </tr>\n",
       "    <tr>\n",
       "      <th>7534</th>\n",
       "      <td>000-1-1678</td>\n",
       "      <td>52</td>\n",
       "      <td>0</td>\n",
       "      <td>2.0</td>\n",
       "      <td>NaN</td>\n",
       "      <td>23.759470</td>\n",
       "      <td>120.955900</td>\n",
       "      <td>cough, fever, myalgia, rhinorrhea, sore throat</td>\n",
       "      <td>True</td>\n",
       "      <td>diabetes</td>\n",
       "      <td>NaN</td>\n",
       "    </tr>\n",
       "    <tr>\n",
       "      <th>12449</th>\n",
       "      <td>000-1-21204</td>\n",
       "      <td>60-69</td>\n",
       "      <td>0</td>\n",
       "      <td>11.0</td>\n",
       "      <td>Japan</td>\n",
       "      <td>33.883295</td>\n",
       "      <td>130.875179</td>\n",
       "      <td>Cough, fever (38.0 ° C)</td>\n",
       "      <td>True</td>\n",
       "      <td>kidney dz; on dialysis</td>\n",
       "      <td>NaN</td>\n",
       "    </tr>\n",
       "    <tr>\n",
       "      <th>24609</th>\n",
       "      <td>000-1-3215</td>\n",
       "      <td>33</td>\n",
       "      <td>0</td>\n",
       "      <td>4.0</td>\n",
       "      <td>South Korea</td>\n",
       "      <td>37.566670</td>\n",
       "      <td>126.966700</td>\n",
       "      <td>cough</td>\n",
       "      <td>True</td>\n",
       "      <td>asthma</td>\n",
       "      <td>NaN</td>\n",
       "    </tr>\n",
       "  </tbody>\n",
       "</table>\n",
       "</div>"
      ],
      "text/plain": [
       "                ID    age  status  time      country   latitude   longitude  \\\n",
       "1994   000-1-11793  80-89       0  17.0          NaN  23.759470  120.955900   \n",
       "4334     000-1-139  50-59       1   9.0       Canada  43.725290  -79.387000   \n",
       "7534    000-1-1678     52       0   2.0          NaN  23.759470  120.955900   \n",
       "12449  000-1-21204  60-69       0  11.0        Japan  33.883295  130.875179   \n",
       "24609   000-1-3215     33       0   4.0  South Korea  37.566670  126.966700   \n",
       "\n",
       "                                             symptoms  chronic_disease_binary  \\\n",
       "1994                                                0                    True   \n",
       "4334                                                0                    True   \n",
       "7534   cough, fever, myalgia, rhinorrhea, sore throat                    True   \n",
       "12449                         Cough, fever (38.0 ° C)                    True   \n",
       "24609                                           cough                    True   \n",
       "\n",
       "              chronic_disease     outcome  \n",
       "1994   hypertension; diabetes         NaN  \n",
       "4334             hypertension  discharged  \n",
       "7534                 diabetes         NaN  \n",
       "12449  kidney dz; on dialysis         NaN  \n",
       "24609                  asthma         NaN  "
      ]
     },
     "execution_count": 35,
     "metadata": {},
     "output_type": "execute_result"
    }
   ],
   "source": [
    "df_last_toreg[df_last_toreg['chronic_disease'] != 0].head(5)"
   ]
  },
  {
   "cell_type": "code",
   "execution_count": 36,
   "metadata": {},
   "outputs": [
    {
     "data": {
      "text/plain": [
       "0                                                                                                                         260558\n",
       "hypertension                                                                                                                   8\n",
       "asthma                                                                                                                         5\n",
       "diabetes                                                                                                                       3\n",
       "hypertensive                                                                                                                   3\n",
       "hypertension:diabetes                                                                                                          3\n",
       "hepatitis B, diabetes                                                                                                          2\n",
       "hypertension; diabetes                                                                                                         2\n",
       "type 2 diabetes for 30+ years; hypertension for 9 years; coronary bypass surgery for 2 years;                                  2\n",
       "hypertriglyceridemia                                                                                                           2\n",
       "prostate hypertrophy                                                                                                           2\n",
       "history of hypertension, type 2 diabetes, coronary heart disease for which a stent had been implanted, and lung cancer         2\n",
       "diabetes, hypertension                                                                                                         2\n",
       "kidney dz; on dialysis                                                                                                         2\n",
       "hypertension, diabetes, coronary heart disease, frequent ventricular premature beat (FVPB), coronary artery stenting           1\n",
       "hypertension for more than 20 years, diabetes for more than 20 years, Parkinson's disease                                      1\n",
       "Diabetes                                                                                                                       1\n",
       "chronic kidney disease:hypertension:diabetes                                                                                   1\n",
       "asthma:diabetes                                                                                                                1\n",
       "hypertension:diabetes:valvular heart disease                                                                                   1\n",
       "chronic kidney disease                                                                                                         1\n",
       "Hypertension                                                                                                                   1\n",
       "Name: chronic_disease, dtype: int64"
      ]
     },
     "execution_count": 36,
     "metadata": {},
     "output_type": "execute_result"
    }
   ],
   "source": [
    "uni_counts = df_last_toreg['chronic_disease'].value_counts()\n",
    "\n",
    "uni_counts"
   ]
  },
  {
   "cell_type": "code",
   "execution_count": 37,
   "metadata": {},
   "outputs": [],
   "source": [
    "split_values = df_last_toreg['chronic_disease'].str.split(r'[;:,]', expand=True)"
   ]
  },
  {
   "cell_type": "code",
   "execution_count": 38,
   "metadata": {},
   "outputs": [],
   "source": [
    "df_without_missing = split_values[split_values[0].notna()]"
   ]
  },
  {
   "cell_type": "code",
   "execution_count": 39,
   "metadata": {
    "scrolled": true
   },
   "outputs": [
    {
     "data": {
      "text/html": [
       "<div>\n",
       "<style scoped>\n",
       "    .dataframe tbody tr th:only-of-type {\n",
       "        vertical-align: middle;\n",
       "    }\n",
       "\n",
       "    .dataframe tbody tr th {\n",
       "        vertical-align: top;\n",
       "    }\n",
       "\n",
       "    .dataframe thead th {\n",
       "        text-align: right;\n",
       "    }\n",
       "</style>\n",
       "<table border=\"1\" class=\"dataframe\">\n",
       "  <thead>\n",
       "    <tr style=\"text-align: right;\">\n",
       "      <th></th>\n",
       "      <th>0</th>\n",
       "      <th>1</th>\n",
       "      <th>2</th>\n",
       "      <th>3</th>\n",
       "      <th>4</th>\n",
       "    </tr>\n",
       "  </thead>\n",
       "  <tbody>\n",
       "    <tr>\n",
       "      <th>1994</th>\n",
       "      <td>hypertension</td>\n",
       "      <td>diabetes</td>\n",
       "      <td>None</td>\n",
       "      <td>None</td>\n",
       "      <td>None</td>\n",
       "    </tr>\n",
       "    <tr>\n",
       "      <th>4334</th>\n",
       "      <td>hypertension</td>\n",
       "      <td>None</td>\n",
       "      <td>None</td>\n",
       "      <td>None</td>\n",
       "      <td>None</td>\n",
       "    </tr>\n",
       "    <tr>\n",
       "      <th>7534</th>\n",
       "      <td>diabetes</td>\n",
       "      <td>None</td>\n",
       "      <td>None</td>\n",
       "      <td>None</td>\n",
       "      <td>None</td>\n",
       "    </tr>\n",
       "    <tr>\n",
       "      <th>12449</th>\n",
       "      <td>kidney dz</td>\n",
       "      <td>on dialysis</td>\n",
       "      <td>None</td>\n",
       "      <td>None</td>\n",
       "      <td>None</td>\n",
       "    </tr>\n",
       "    <tr>\n",
       "      <th>24609</th>\n",
       "      <td>asthma</td>\n",
       "      <td>None</td>\n",
       "      <td>None</td>\n",
       "      <td>None</td>\n",
       "      <td>None</td>\n",
       "    </tr>\n",
       "  </tbody>\n",
       "</table>\n",
       "</div>"
      ],
      "text/plain": [
       "                  0             1     2     3     4\n",
       "1994   hypertension      diabetes  None  None  None\n",
       "4334   hypertension          None  None  None  None\n",
       "7534       diabetes          None  None  None  None\n",
       "12449     kidney dz   on dialysis  None  None  None\n",
       "24609        asthma          None  None  None  None"
      ]
     },
     "execution_count": 39,
     "metadata": {},
     "output_type": "execute_result"
    }
   ],
   "source": [
    "df_without_missing.head()"
   ]
  },
  {
   "cell_type": "code",
   "execution_count": 40,
   "metadata": {},
   "outputs": [],
   "source": [
    "all_elements = split_values.values.ravel()"
   ]
  },
  {
   "cell_type": "code",
   "execution_count": 41,
   "metadata": {},
   "outputs": [],
   "source": [
    "all_elements_series = pd.Series(all_elements)"
   ]
  },
  {
   "cell_type": "code",
   "execution_count": 42,
   "metadata": {},
   "outputs": [
    {
     "name": "stdout",
     "output_type": "stream",
     "text": [
      "hypertension                                                    16\n",
      "diabetes                                                        11\n",
      "asthma                                                           6\n",
      " diabetes                                                        5\n",
      "hypertensive                                                     3\n",
      "hepatitis B                                                      2\n",
      "chronic kidney disease                                           2\n",
      "hypertriglyceridemia                                             2\n",
      "                                                                 2\n",
      " coronary bypass surgery for 2 years                             2\n",
      "type 2 diabetes for 30+ years                                    2\n",
      " hypertension for 9 years                                        2\n",
      "prostate hypertrophy                                             2\n",
      " coronary heart disease for which a stent had been implanted     2\n",
      " type 2 diabetes                                                 2\n",
      "history of hypertension                                          2\n",
      " hypertension                                                    2\n",
      "kidney dz                                                        2\n",
      " and lung cancer                                                 2\n",
      " on dialysis                                                     2\n",
      " Parkinson's disease                                             1\n",
      "valvular heart disease                                           1\n",
      "Diabetes                                                         1\n",
      " coronary artery stenting                                        1\n",
      " diabetes for more than 20 years                                 1\n",
      "hypertension for more than 20 years                              1\n",
      " frequent ventricular premature beat (FVPB)                      1\n",
      " coronary heart disease                                          1\n",
      "Hypertension                                                     1\n",
      "dtype: int64\n"
     ]
    }
   ],
   "source": [
    "chronic_counts = all_elements_series.value_counts()\n",
    "print(chronic_counts)"
   ]
  },
  {
   "cell_type": "code",
   "execution_count": 43,
   "metadata": {},
   "outputs": [],
   "source": [
    "max_columns = split_values.shape[1]"
   ]
  },
  {
   "cell_type": "code",
   "execution_count": 44,
   "metadata": {},
   "outputs": [],
   "source": [
    "new_columns = [f'B_{i+1}' for i in range(max_columns)]"
   ]
  },
  {
   "cell_type": "code",
   "execution_count": 45,
   "metadata": {},
   "outputs": [],
   "source": [
    "split_values.columns = new_columns"
   ]
  },
  {
   "cell_type": "code",
   "execution_count": 46,
   "metadata": {},
   "outputs": [
    {
     "data": {
      "text/plain": [
       "Index(['B_1', 'B_2', 'B_3', 'B_4', 'B_5'], dtype='object')"
      ]
     },
     "execution_count": 46,
     "metadata": {},
     "output_type": "execute_result"
    }
   ],
   "source": [
    "split_values.columns"
   ]
  },
  {
   "cell_type": "code",
   "execution_count": 47,
   "metadata": {},
   "outputs": [
    {
     "data": {
      "text/html": [
       "<div>\n",
       "<style scoped>\n",
       "    .dataframe tbody tr th:only-of-type {\n",
       "        vertical-align: middle;\n",
       "    }\n",
       "\n",
       "    .dataframe tbody tr th {\n",
       "        vertical-align: top;\n",
       "    }\n",
       "\n",
       "    .dataframe thead th {\n",
       "        text-align: right;\n",
       "    }\n",
       "</style>\n",
       "<table border=\"1\" class=\"dataframe\">\n",
       "  <thead>\n",
       "    <tr style=\"text-align: right;\">\n",
       "      <th></th>\n",
       "      <th>B_1</th>\n",
       "      <th>B_2</th>\n",
       "      <th>B_3</th>\n",
       "      <th>B_4</th>\n",
       "      <th>B_5</th>\n",
       "    </tr>\n",
       "  </thead>\n",
       "  <tbody>\n",
       "    <tr>\n",
       "      <th>1994</th>\n",
       "      <td>hypertension</td>\n",
       "      <td>diabetes</td>\n",
       "      <td>None</td>\n",
       "      <td>None</td>\n",
       "      <td>None</td>\n",
       "    </tr>\n",
       "    <tr>\n",
       "      <th>4334</th>\n",
       "      <td>hypertension</td>\n",
       "      <td>None</td>\n",
       "      <td>None</td>\n",
       "      <td>None</td>\n",
       "      <td>None</td>\n",
       "    </tr>\n",
       "    <tr>\n",
       "      <th>7534</th>\n",
       "      <td>diabetes</td>\n",
       "      <td>None</td>\n",
       "      <td>None</td>\n",
       "      <td>None</td>\n",
       "      <td>None</td>\n",
       "    </tr>\n",
       "    <tr>\n",
       "      <th>12449</th>\n",
       "      <td>kidney dz</td>\n",
       "      <td>on dialysis</td>\n",
       "      <td>None</td>\n",
       "      <td>None</td>\n",
       "      <td>None</td>\n",
       "    </tr>\n",
       "    <tr>\n",
       "      <th>24609</th>\n",
       "      <td>asthma</td>\n",
       "      <td>None</td>\n",
       "      <td>None</td>\n",
       "      <td>None</td>\n",
       "      <td>None</td>\n",
       "    </tr>\n",
       "  </tbody>\n",
       "</table>\n",
       "</div>"
      ],
      "text/plain": [
       "                B_1           B_2   B_3   B_4   B_5\n",
       "1994   hypertension      diabetes  None  None  None\n",
       "4334   hypertension          None  None  None  None\n",
       "7534       diabetes          None  None  None  None\n",
       "12449     kidney dz   on dialysis  None  None  None\n",
       "24609        asthma          None  None  None  None"
      ]
     },
     "execution_count": 47,
     "metadata": {},
     "output_type": "execute_result"
    }
   ],
   "source": [
    "df_without_missing = split_values[split_values['B_1'].notna()]\n",
    "df_without_missing.head()"
   ]
  },
  {
   "cell_type": "code",
   "execution_count": 48,
   "metadata": {
    "scrolled": true
   },
   "outputs": [
    {
     "name": "stdout",
     "output_type": "stream",
     "text": [
      "['hypertension', 'diabetes', 'asthma', ' diabetes', 'hypertensive', 'hepatitis B', 'chronic kidney disease', 'hypertriglyceridemia', '', ' coronary bypass surgery for 2 years', 'type 2 diabetes for 30+ years', ' hypertension for 9 years', 'prostate hypertrophy', ' coronary heart disease for which a stent had been implanted', ' type 2 diabetes', 'history of hypertension', ' hypertension', 'kidney dz', ' and lung cancer', ' on dialysis', \" Parkinson's disease\", 'valvular heart disease', 'Diabetes', ' coronary artery stenting', ' diabetes for more than 20 years', 'hypertension for more than 20 years', ' frequent ventricular premature beat (FVPB)', ' coronary heart disease', 'Hypertension']\n"
     ]
    }
   ],
   "source": [
    "chronic_index = chronic_counts.index.tolist()\n",
    "max_columns = len(chronic_index)\n",
    "print(chronic_index)"
   ]
  },
  {
   "cell_type": "code",
   "execution_count": 49,
   "metadata": {
    "scrolled": true
   },
   "outputs": [
    {
     "name": "stderr",
     "output_type": "stream",
     "text": [
      "C:\\ProgramData\\Anaconda3\\lib\\site-packages\\ipykernel_launcher.py:6: UserWarning: This pattern has match groups. To actually get the groups, use str.extract.\n",
      "  \n",
      "C:\\ProgramData\\Anaconda3\\lib\\site-packages\\ipykernel_launcher.py:7: UserWarning: This pattern has match groups. To actually get the groups, use str.extract.\n",
      "  import sys\n"
     ]
    }
   ],
   "source": [
    "for i in range(max_columns):\n",
    "    split_values[\"chronic_\"+chronic_index[i]] = (\n",
    "           (split_values['B_1'].str.contains(chronic_index[i], case=False, na=False)) | \n",
    "           (split_values['B_2'].str.contains(chronic_index[i], case=False, na=False)) | \n",
    "           (split_values['B_3'].str.contains(chronic_index[i], case=False, na=False)) | \n",
    "           (split_values['B_4'].str.contains(chronic_index[i], case=False, na=False)) |\n",
    "           (split_values['B_5'].str.contains(chronic_index[i], case=False, na=False))).astype(int)\n"
   ]
  },
  {
   "cell_type": "code",
   "execution_count": 50,
   "metadata": {
    "scrolled": true
   },
   "outputs": [
    {
     "data": {
      "text/html": [
       "<div>\n",
       "<style scoped>\n",
       "    .dataframe tbody tr th:only-of-type {\n",
       "        vertical-align: middle;\n",
       "    }\n",
       "\n",
       "    .dataframe tbody tr th {\n",
       "        vertical-align: top;\n",
       "    }\n",
       "\n",
       "    .dataframe thead th {\n",
       "        text-align: right;\n",
       "    }\n",
       "</style>\n",
       "<table border=\"1\" class=\"dataframe\">\n",
       "  <thead>\n",
       "    <tr style=\"text-align: right;\">\n",
       "      <th></th>\n",
       "      <th>B_1</th>\n",
       "      <th>B_2</th>\n",
       "      <th>B_3</th>\n",
       "      <th>B_4</th>\n",
       "      <th>B_5</th>\n",
       "      <th>chronic_hypertension</th>\n",
       "      <th>chronic_diabetes</th>\n",
       "      <th>chronic_asthma</th>\n",
       "      <th>chronic_ diabetes</th>\n",
       "      <th>chronic_hypertensive</th>\n",
       "      <th>...</th>\n",
       "      <th>chronic_ on dialysis</th>\n",
       "      <th>chronic_ Parkinson's disease</th>\n",
       "      <th>chronic_valvular heart disease</th>\n",
       "      <th>chronic_Diabetes</th>\n",
       "      <th>chronic_ coronary artery stenting</th>\n",
       "      <th>chronic_ diabetes for more than 20 years</th>\n",
       "      <th>chronic_hypertension for more than 20 years</th>\n",
       "      <th>chronic_ frequent ventricular premature beat (FVPB)</th>\n",
       "      <th>chronic_ coronary heart disease</th>\n",
       "      <th>chronic_Hypertension</th>\n",
       "    </tr>\n",
       "  </thead>\n",
       "  <tbody>\n",
       "    <tr>\n",
       "      <th>1994</th>\n",
       "      <td>hypertension</td>\n",
       "      <td>diabetes</td>\n",
       "      <td>None</td>\n",
       "      <td>None</td>\n",
       "      <td>None</td>\n",
       "      <td>1</td>\n",
       "      <td>1</td>\n",
       "      <td>0</td>\n",
       "      <td>1</td>\n",
       "      <td>0</td>\n",
       "      <td>...</td>\n",
       "      <td>0</td>\n",
       "      <td>0</td>\n",
       "      <td>0</td>\n",
       "      <td>1</td>\n",
       "      <td>0</td>\n",
       "      <td>0</td>\n",
       "      <td>0</td>\n",
       "      <td>0</td>\n",
       "      <td>0</td>\n",
       "      <td>1</td>\n",
       "    </tr>\n",
       "    <tr>\n",
       "      <th>4334</th>\n",
       "      <td>hypertension</td>\n",
       "      <td>None</td>\n",
       "      <td>None</td>\n",
       "      <td>None</td>\n",
       "      <td>None</td>\n",
       "      <td>1</td>\n",
       "      <td>0</td>\n",
       "      <td>0</td>\n",
       "      <td>0</td>\n",
       "      <td>0</td>\n",
       "      <td>...</td>\n",
       "      <td>0</td>\n",
       "      <td>0</td>\n",
       "      <td>0</td>\n",
       "      <td>0</td>\n",
       "      <td>0</td>\n",
       "      <td>0</td>\n",
       "      <td>0</td>\n",
       "      <td>0</td>\n",
       "      <td>0</td>\n",
       "      <td>1</td>\n",
       "    </tr>\n",
       "    <tr>\n",
       "      <th>34467</th>\n",
       "      <td>diabetes</td>\n",
       "      <td>hypertension</td>\n",
       "      <td>None</td>\n",
       "      <td>None</td>\n",
       "      <td>None</td>\n",
       "      <td>1</td>\n",
       "      <td>1</td>\n",
       "      <td>0</td>\n",
       "      <td>0</td>\n",
       "      <td>0</td>\n",
       "      <td>...</td>\n",
       "      <td>0</td>\n",
       "      <td>0</td>\n",
       "      <td>0</td>\n",
       "      <td>1</td>\n",
       "      <td>0</td>\n",
       "      <td>0</td>\n",
       "      <td>0</td>\n",
       "      <td>0</td>\n",
       "      <td>0</td>\n",
       "      <td>1</td>\n",
       "    </tr>\n",
       "    <tr>\n",
       "      <th>36662</th>\n",
       "      <td>history of hypertension</td>\n",
       "      <td>type 2 diabetes</td>\n",
       "      <td>coronary heart disease for which a stent had ...</td>\n",
       "      <td>and lung cancer</td>\n",
       "      <td>None</td>\n",
       "      <td>1</td>\n",
       "      <td>1</td>\n",
       "      <td>0</td>\n",
       "      <td>1</td>\n",
       "      <td>0</td>\n",
       "      <td>...</td>\n",
       "      <td>0</td>\n",
       "      <td>0</td>\n",
       "      <td>0</td>\n",
       "      <td>1</td>\n",
       "      <td>0</td>\n",
       "      <td>0</td>\n",
       "      <td>0</td>\n",
       "      <td>0</td>\n",
       "      <td>1</td>\n",
       "      <td>1</td>\n",
       "    </tr>\n",
       "    <tr>\n",
       "      <th>40112</th>\n",
       "      <td>type 2 diabetes for 30+ years</td>\n",
       "      <td>hypertension for 9 years</td>\n",
       "      <td>coronary bypass surgery for 2 years</td>\n",
       "      <td></td>\n",
       "      <td>None</td>\n",
       "      <td>1</td>\n",
       "      <td>1</td>\n",
       "      <td>0</td>\n",
       "      <td>1</td>\n",
       "      <td>0</td>\n",
       "      <td>...</td>\n",
       "      <td>0</td>\n",
       "      <td>0</td>\n",
       "      <td>0</td>\n",
       "      <td>1</td>\n",
       "      <td>0</td>\n",
       "      <td>0</td>\n",
       "      <td>0</td>\n",
       "      <td>0</td>\n",
       "      <td>0</td>\n",
       "      <td>1</td>\n",
       "    </tr>\n",
       "  </tbody>\n",
       "</table>\n",
       "<p>5 rows × 34 columns</p>\n",
       "</div>"
      ],
      "text/plain": [
       "                                 B_1                        B_2  \\\n",
       "1994                    hypertension                   diabetes   \n",
       "4334                    hypertension                       None   \n",
       "34467                       diabetes               hypertension   \n",
       "36662        history of hypertension            type 2 diabetes   \n",
       "40112  type 2 diabetes for 30+ years   hypertension for 9 years   \n",
       "\n",
       "                                                     B_3               B_4  \\\n",
       "1994                                                None              None   \n",
       "4334                                                None              None   \n",
       "34467                                               None              None   \n",
       "36662   coronary heart disease for which a stent had ...   and lung cancer   \n",
       "40112                coronary bypass surgery for 2 years                     \n",
       "\n",
       "        B_5  chronic_hypertension  chronic_diabetes  chronic_asthma  \\\n",
       "1994   None                     1                 1               0   \n",
       "4334   None                     1                 0               0   \n",
       "34467  None                     1                 1               0   \n",
       "36662  None                     1                 1               0   \n",
       "40112  None                     1                 1               0   \n",
       "\n",
       "       chronic_ diabetes  chronic_hypertensive  ...  chronic_ on dialysis  \\\n",
       "1994                   1                     0  ...                     0   \n",
       "4334                   0                     0  ...                     0   \n",
       "34467                  0                     0  ...                     0   \n",
       "36662                  1                     0  ...                     0   \n",
       "40112                  1                     0  ...                     0   \n",
       "\n",
       "       chronic_ Parkinson's disease  chronic_valvular heart disease  \\\n",
       "1994                              0                               0   \n",
       "4334                              0                               0   \n",
       "34467                             0                               0   \n",
       "36662                             0                               0   \n",
       "40112                             0                               0   \n",
       "\n",
       "       chronic_Diabetes  chronic_ coronary artery stenting  \\\n",
       "1994                  1                                  0   \n",
       "4334                  0                                  0   \n",
       "34467                 1                                  0   \n",
       "36662                 1                                  0   \n",
       "40112                 1                                  0   \n",
       "\n",
       "       chronic_ diabetes for more than 20 years  \\\n",
       "1994                                          0   \n",
       "4334                                          0   \n",
       "34467                                         0   \n",
       "36662                                         0   \n",
       "40112                                         0   \n",
       "\n",
       "       chronic_hypertension for more than 20 years  \\\n",
       "1994                                             0   \n",
       "4334                                             0   \n",
       "34467                                            0   \n",
       "36662                                            0   \n",
       "40112                                            0   \n",
       "\n",
       "       chronic_ frequent ventricular premature beat (FVPB)  \\\n",
       "1994                                                   0     \n",
       "4334                                                   0     \n",
       "34467                                                  0     \n",
       "36662                                                  0     \n",
       "40112                                                  0     \n",
       "\n",
       "       chronic_ coronary heart disease  chronic_Hypertension  \n",
       "1994                                 0                     1  \n",
       "4334                                 0                     1  \n",
       "34467                                0                     1  \n",
       "36662                                1                     1  \n",
       "40112                                0                     1  \n",
       "\n",
       "[5 rows x 34 columns]"
      ]
     },
     "execution_count": 50,
     "metadata": {},
     "output_type": "execute_result"
    }
   ],
   "source": [
    "split_values[split_values['chronic_hypertension'] != 0].head(5)"
   ]
  },
  {
   "cell_type": "code",
   "execution_count": 51,
   "metadata": {},
   "outputs": [],
   "source": [
    "one_hot_code_chronic = split_values.drop(['B_1', 'B_2', 'B_3', 'B_4', 'B_5'],axis=1)"
   ]
  },
  {
   "cell_type": "code",
   "execution_count": 52,
   "metadata": {
    "scrolled": true
   },
   "outputs": [
    {
     "data": {
      "text/html": [
       "<div>\n",
       "<style scoped>\n",
       "    .dataframe tbody tr th:only-of-type {\n",
       "        vertical-align: middle;\n",
       "    }\n",
       "\n",
       "    .dataframe tbody tr th {\n",
       "        vertical-align: top;\n",
       "    }\n",
       "\n",
       "    .dataframe thead th {\n",
       "        text-align: right;\n",
       "    }\n",
       "</style>\n",
       "<table border=\"1\" class=\"dataframe\">\n",
       "  <thead>\n",
       "    <tr style=\"text-align: right;\">\n",
       "      <th></th>\n",
       "      <th>chronic_hypertension</th>\n",
       "      <th>chronic_diabetes</th>\n",
       "      <th>chronic_asthma</th>\n",
       "      <th>chronic_ diabetes</th>\n",
       "      <th>chronic_hypertensive</th>\n",
       "      <th>chronic_hepatitis B</th>\n",
       "      <th>chronic_chronic kidney disease</th>\n",
       "      <th>chronic_hypertriglyceridemia</th>\n",
       "      <th>chronic_</th>\n",
       "      <th>chronic_ coronary bypass surgery for 2 years</th>\n",
       "      <th>...</th>\n",
       "      <th>chronic_ on dialysis</th>\n",
       "      <th>chronic_ Parkinson's disease</th>\n",
       "      <th>chronic_valvular heart disease</th>\n",
       "      <th>chronic_Diabetes</th>\n",
       "      <th>chronic_ coronary artery stenting</th>\n",
       "      <th>chronic_ diabetes for more than 20 years</th>\n",
       "      <th>chronic_hypertension for more than 20 years</th>\n",
       "      <th>chronic_ frequent ventricular premature beat (FVPB)</th>\n",
       "      <th>chronic_ coronary heart disease</th>\n",
       "      <th>chronic_Hypertension</th>\n",
       "    </tr>\n",
       "  </thead>\n",
       "  <tbody>\n",
       "    <tr>\n",
       "      <th>53</th>\n",
       "      <td>0</td>\n",
       "      <td>0</td>\n",
       "      <td>0</td>\n",
       "      <td>0</td>\n",
       "      <td>0</td>\n",
       "      <td>0</td>\n",
       "      <td>0</td>\n",
       "      <td>0</td>\n",
       "      <td>0</td>\n",
       "      <td>0</td>\n",
       "      <td>...</td>\n",
       "      <td>0</td>\n",
       "      <td>0</td>\n",
       "      <td>0</td>\n",
       "      <td>0</td>\n",
       "      <td>0</td>\n",
       "      <td>0</td>\n",
       "      <td>0</td>\n",
       "      <td>0</td>\n",
       "      <td>0</td>\n",
       "      <td>0</td>\n",
       "    </tr>\n",
       "    <tr>\n",
       "      <th>55</th>\n",
       "      <td>0</td>\n",
       "      <td>0</td>\n",
       "      <td>0</td>\n",
       "      <td>0</td>\n",
       "      <td>0</td>\n",
       "      <td>0</td>\n",
       "      <td>0</td>\n",
       "      <td>0</td>\n",
       "      <td>0</td>\n",
       "      <td>0</td>\n",
       "      <td>...</td>\n",
       "      <td>0</td>\n",
       "      <td>0</td>\n",
       "      <td>0</td>\n",
       "      <td>0</td>\n",
       "      <td>0</td>\n",
       "      <td>0</td>\n",
       "      <td>0</td>\n",
       "      <td>0</td>\n",
       "      <td>0</td>\n",
       "      <td>0</td>\n",
       "    </tr>\n",
       "    <tr>\n",
       "      <th>335</th>\n",
       "      <td>0</td>\n",
       "      <td>0</td>\n",
       "      <td>0</td>\n",
       "      <td>0</td>\n",
       "      <td>0</td>\n",
       "      <td>0</td>\n",
       "      <td>0</td>\n",
       "      <td>0</td>\n",
       "      <td>0</td>\n",
       "      <td>0</td>\n",
       "      <td>...</td>\n",
       "      <td>0</td>\n",
       "      <td>0</td>\n",
       "      <td>0</td>\n",
       "      <td>0</td>\n",
       "      <td>0</td>\n",
       "      <td>0</td>\n",
       "      <td>0</td>\n",
       "      <td>0</td>\n",
       "      <td>0</td>\n",
       "      <td>0</td>\n",
       "    </tr>\n",
       "    <tr>\n",
       "      <th>365</th>\n",
       "      <td>0</td>\n",
       "      <td>0</td>\n",
       "      <td>0</td>\n",
       "      <td>0</td>\n",
       "      <td>0</td>\n",
       "      <td>0</td>\n",
       "      <td>0</td>\n",
       "      <td>0</td>\n",
       "      <td>0</td>\n",
       "      <td>0</td>\n",
       "      <td>...</td>\n",
       "      <td>0</td>\n",
       "      <td>0</td>\n",
       "      <td>0</td>\n",
       "      <td>0</td>\n",
       "      <td>0</td>\n",
       "      <td>0</td>\n",
       "      <td>0</td>\n",
       "      <td>0</td>\n",
       "      <td>0</td>\n",
       "      <td>0</td>\n",
       "    </tr>\n",
       "    <tr>\n",
       "      <th>446</th>\n",
       "      <td>0</td>\n",
       "      <td>0</td>\n",
       "      <td>0</td>\n",
       "      <td>0</td>\n",
       "      <td>0</td>\n",
       "      <td>0</td>\n",
       "      <td>0</td>\n",
       "      <td>0</td>\n",
       "      <td>0</td>\n",
       "      <td>0</td>\n",
       "      <td>...</td>\n",
       "      <td>0</td>\n",
       "      <td>0</td>\n",
       "      <td>0</td>\n",
       "      <td>0</td>\n",
       "      <td>0</td>\n",
       "      <td>0</td>\n",
       "      <td>0</td>\n",
       "      <td>0</td>\n",
       "      <td>0</td>\n",
       "      <td>0</td>\n",
       "    </tr>\n",
       "  </tbody>\n",
       "</table>\n",
       "<p>5 rows × 29 columns</p>\n",
       "</div>"
      ],
      "text/plain": [
       "     chronic_hypertension  chronic_diabetes  chronic_asthma  \\\n",
       "53                      0                 0               0   \n",
       "55                      0                 0               0   \n",
       "335                     0                 0               0   \n",
       "365                     0                 0               0   \n",
       "446                     0                 0               0   \n",
       "\n",
       "     chronic_ diabetes  chronic_hypertensive  chronic_hepatitis B  \\\n",
       "53                   0                     0                    0   \n",
       "55                   0                     0                    0   \n",
       "335                  0                     0                    0   \n",
       "365                  0                     0                    0   \n",
       "446                  0                     0                    0   \n",
       "\n",
       "     chronic_chronic kidney disease  chronic_hypertriglyceridemia  chronic_  \\\n",
       "53                                0                             0         0   \n",
       "55                                0                             0         0   \n",
       "335                               0                             0         0   \n",
       "365                               0                             0         0   \n",
       "446                               0                             0         0   \n",
       "\n",
       "     chronic_ coronary bypass surgery for 2 years  ...  chronic_ on dialysis  \\\n",
       "53                                              0  ...                     0   \n",
       "55                                              0  ...                     0   \n",
       "335                                             0  ...                     0   \n",
       "365                                             0  ...                     0   \n",
       "446                                             0  ...                     0   \n",
       "\n",
       "     chronic_ Parkinson's disease  chronic_valvular heart disease  \\\n",
       "53                              0                               0   \n",
       "55                              0                               0   \n",
       "335                             0                               0   \n",
       "365                             0                               0   \n",
       "446                             0                               0   \n",
       "\n",
       "     chronic_Diabetes  chronic_ coronary artery stenting  \\\n",
       "53                  0                                  0   \n",
       "55                  0                                  0   \n",
       "335                 0                                  0   \n",
       "365                 0                                  0   \n",
       "446                 0                                  0   \n",
       "\n",
       "     chronic_ diabetes for more than 20 years  \\\n",
       "53                                          0   \n",
       "55                                          0   \n",
       "335                                         0   \n",
       "365                                         0   \n",
       "446                                         0   \n",
       "\n",
       "     chronic_hypertension for more than 20 years  \\\n",
       "53                                             0   \n",
       "55                                             0   \n",
       "335                                            0   \n",
       "365                                            0   \n",
       "446                                            0   \n",
       "\n",
       "     chronic_ frequent ventricular premature beat (FVPB)  \\\n",
       "53                                                   0     \n",
       "55                                                   0     \n",
       "335                                                  0     \n",
       "365                                                  0     \n",
       "446                                                  0     \n",
       "\n",
       "     chronic_ coronary heart disease  chronic_Hypertension  \n",
       "53                                 0                     0  \n",
       "55                                 0                     0  \n",
       "335                                0                     0  \n",
       "365                                0                     0  \n",
       "446                                0                     0  \n",
       "\n",
       "[5 rows x 29 columns]"
      ]
     },
     "execution_count": 52,
     "metadata": {},
     "output_type": "execute_result"
    }
   ],
   "source": [
    "one_hot_code_chronic.head()"
   ]
  },
  {
   "cell_type": "code",
   "execution_count": 53,
   "metadata": {},
   "outputs": [
    {
     "data": {
      "text/html": [
       "<div>\n",
       "<style scoped>\n",
       "    .dataframe tbody tr th:only-of-type {\n",
       "        vertical-align: middle;\n",
       "    }\n",
       "\n",
       "    .dataframe tbody tr th {\n",
       "        vertical-align: top;\n",
       "    }\n",
       "\n",
       "    .dataframe thead th {\n",
       "        text-align: right;\n",
       "    }\n",
       "</style>\n",
       "<table border=\"1\" class=\"dataframe\">\n",
       "  <thead>\n",
       "    <tr style=\"text-align: right;\">\n",
       "      <th></th>\n",
       "      <th>ID</th>\n",
       "      <th>age</th>\n",
       "      <th>status</th>\n",
       "      <th>time</th>\n",
       "      <th>country</th>\n",
       "      <th>latitude</th>\n",
       "      <th>longitude</th>\n",
       "      <th>symptoms</th>\n",
       "      <th>chronic_disease_binary</th>\n",
       "      <th>chronic_disease</th>\n",
       "      <th>outcome</th>\n",
       "    </tr>\n",
       "  </thead>\n",
       "  <tbody>\n",
       "    <tr>\n",
       "      <th>476</th>\n",
       "      <td>000-1-10426</td>\n",
       "      <td>60</td>\n",
       "      <td>0</td>\n",
       "      <td>15.0</td>\n",
       "      <td>Japan</td>\n",
       "      <td>35.450850</td>\n",
       "      <td>139.665100</td>\n",
       "      <td>fever, severe pneumonia</td>\n",
       "      <td>False</td>\n",
       "      <td>0</td>\n",
       "      <td>NaN</td>\n",
       "    </tr>\n",
       "    <tr>\n",
       "      <th>504</th>\n",
       "      <td>000-1-10451</td>\n",
       "      <td>40-49</td>\n",
       "      <td>0</td>\n",
       "      <td>2.0</td>\n",
       "      <td>Japan</td>\n",
       "      <td>35.997360</td>\n",
       "      <td>139.347600</td>\n",
       "      <td>fever</td>\n",
       "      <td>False</td>\n",
       "      <td>0</td>\n",
       "      <td>NaN</td>\n",
       "    </tr>\n",
       "    <tr>\n",
       "      <th>756</th>\n",
       "      <td>000-1-10679</td>\n",
       "      <td>20-29</td>\n",
       "      <td>0</td>\n",
       "      <td>1.0</td>\n",
       "      <td>Japan</td>\n",
       "      <td>35.553333</td>\n",
       "      <td>139.781111</td>\n",
       "      <td>cough, fever, sore throat</td>\n",
       "      <td>False</td>\n",
       "      <td>0</td>\n",
       "      <td>NaN</td>\n",
       "    </tr>\n",
       "    <tr>\n",
       "      <th>765</th>\n",
       "      <td>000-1-10687</td>\n",
       "      <td>40-49</td>\n",
       "      <td>0</td>\n",
       "      <td>13.0</td>\n",
       "      <td>Japan</td>\n",
       "      <td>35.711450</td>\n",
       "      <td>139.446800</td>\n",
       "      <td>cough, fever</td>\n",
       "      <td>False</td>\n",
       "      <td>0</td>\n",
       "      <td>NaN</td>\n",
       "    </tr>\n",
       "    <tr>\n",
       "      <th>767</th>\n",
       "      <td>000-1-10689</td>\n",
       "      <td>80-89</td>\n",
       "      <td>0</td>\n",
       "      <td>9.0</td>\n",
       "      <td>Japan</td>\n",
       "      <td>35.711450</td>\n",
       "      <td>139.446800</td>\n",
       "      <td>dyspnea, fever</td>\n",
       "      <td>False</td>\n",
       "      <td>0</td>\n",
       "      <td>NaN</td>\n",
       "    </tr>\n",
       "  </tbody>\n",
       "</table>\n",
       "</div>"
      ],
      "text/plain": [
       "              ID    age  status  time country   latitude   longitude  \\\n",
       "476  000-1-10426     60       0  15.0   Japan  35.450850  139.665100   \n",
       "504  000-1-10451  40-49       0   2.0   Japan  35.997360  139.347600   \n",
       "756  000-1-10679  20-29       0   1.0   Japan  35.553333  139.781111   \n",
       "765  000-1-10687  40-49       0  13.0   Japan  35.711450  139.446800   \n",
       "767  000-1-10689  80-89       0   9.0   Japan  35.711450  139.446800   \n",
       "\n",
       "                      symptoms  chronic_disease_binary chronic_disease outcome  \n",
       "476    fever, severe pneumonia                   False               0     NaN  \n",
       "504                      fever                   False               0     NaN  \n",
       "756  cough, fever, sore throat                   False               0     NaN  \n",
       "765               cough, fever                   False               0     NaN  \n",
       "767             dyspnea, fever                   False               0     NaN  "
      ]
     },
     "execution_count": 53,
     "metadata": {},
     "output_type": "execute_result"
    }
   ],
   "source": [
    "df_last_toreg[df_last_toreg['symptoms'] != 0].head(5)"
   ]
  },
  {
   "cell_type": "code",
   "execution_count": 54,
   "metadata": {},
   "outputs": [
    {
     "name": "stdout",
     "output_type": "stream",
     "text": [
      "[0, 'hypertension', 'asthma', 'diabetes', 'hypertensive', 'hypertension:diabetes', 'hepatitis B, diabetes', 'hypertension; diabetes', 'type 2 diabetes for 30+ years; hypertension for 9 years; coronary bypass surgery for 2 years;', 'hypertriglyceridemia', 'prostate hypertrophy', 'history of hypertension, type 2 diabetes, coronary heart disease for which a stent had been implanted, and lung cancer', 'diabetes, hypertension', 'kidney dz; on dialysis', 'hypertension, diabetes, coronary heart disease, frequent ventricular premature beat (FVPB), coronary artery stenting', \"hypertension for more than 20 years, diabetes for more than 20 years, Parkinson's disease\", 'Diabetes', 'chronic kidney disease:hypertension:diabetes', 'asthma:diabetes', 'hypertension:diabetes:valvular heart disease', 'chronic kidney disease', 'Hypertension']\n"
     ]
    }
   ],
   "source": [
    "symptoms_names = uni_counts.index.tolist()\n",
    "max_columns = len(symptoms_names)\n",
    "print(symptoms_names)"
   ]
  },
  {
   "cell_type": "code",
   "execution_count": 55,
   "metadata": {},
   "outputs": [],
   "source": [
    "symptoms_split_values = df_last_toreg['symptoms'].str.split(r'[;:,]', expand=True)"
   ]
  },
  {
   "cell_type": "code",
   "execution_count": 56,
   "metadata": {
    "scrolled": true
   },
   "outputs": [
    {
     "data": {
      "text/html": [
       "<div>\n",
       "<style scoped>\n",
       "    .dataframe tbody tr th:only-of-type {\n",
       "        vertical-align: middle;\n",
       "    }\n",
       "\n",
       "    .dataframe tbody tr th {\n",
       "        vertical-align: top;\n",
       "    }\n",
       "\n",
       "    .dataframe thead th {\n",
       "        text-align: right;\n",
       "    }\n",
       "</style>\n",
       "<table border=\"1\" class=\"dataframe\">\n",
       "  <thead>\n",
       "    <tr style=\"text-align: right;\">\n",
       "      <th></th>\n",
       "      <th>0</th>\n",
       "      <th>1</th>\n",
       "      <th>2</th>\n",
       "      <th>3</th>\n",
       "      <th>4</th>\n",
       "      <th>5</th>\n",
       "      <th>6</th>\n",
       "    </tr>\n",
       "  </thead>\n",
       "  <tbody>\n",
       "    <tr>\n",
       "      <th>53</th>\n",
       "      <td>NaN</td>\n",
       "      <td>NaN</td>\n",
       "      <td>NaN</td>\n",
       "      <td>NaN</td>\n",
       "      <td>NaN</td>\n",
       "      <td>NaN</td>\n",
       "      <td>NaN</td>\n",
       "    </tr>\n",
       "    <tr>\n",
       "      <th>55</th>\n",
       "      <td>NaN</td>\n",
       "      <td>NaN</td>\n",
       "      <td>NaN</td>\n",
       "      <td>NaN</td>\n",
       "      <td>NaN</td>\n",
       "      <td>NaN</td>\n",
       "      <td>NaN</td>\n",
       "    </tr>\n",
       "    <tr>\n",
       "      <th>335</th>\n",
       "      <td>NaN</td>\n",
       "      <td>NaN</td>\n",
       "      <td>NaN</td>\n",
       "      <td>NaN</td>\n",
       "      <td>NaN</td>\n",
       "      <td>NaN</td>\n",
       "      <td>NaN</td>\n",
       "    </tr>\n",
       "    <tr>\n",
       "      <th>365</th>\n",
       "      <td>NaN</td>\n",
       "      <td>NaN</td>\n",
       "      <td>NaN</td>\n",
       "      <td>NaN</td>\n",
       "      <td>NaN</td>\n",
       "      <td>NaN</td>\n",
       "      <td>NaN</td>\n",
       "    </tr>\n",
       "    <tr>\n",
       "      <th>446</th>\n",
       "      <td>NaN</td>\n",
       "      <td>NaN</td>\n",
       "      <td>NaN</td>\n",
       "      <td>NaN</td>\n",
       "      <td>NaN</td>\n",
       "      <td>NaN</td>\n",
       "      <td>NaN</td>\n",
       "    </tr>\n",
       "  </tbody>\n",
       "</table>\n",
       "</div>"
      ],
      "text/plain": [
       "       0    1    2    3    4    5    6\n",
       "53   NaN  NaN  NaN  NaN  NaN  NaN  NaN\n",
       "55   NaN  NaN  NaN  NaN  NaN  NaN  NaN\n",
       "335  NaN  NaN  NaN  NaN  NaN  NaN  NaN\n",
       "365  NaN  NaN  NaN  NaN  NaN  NaN  NaN\n",
       "446  NaN  NaN  NaN  NaN  NaN  NaN  NaN"
      ]
     },
     "execution_count": 56,
     "metadata": {},
     "output_type": "execute_result"
    }
   ],
   "source": [
    "symptoms_split_values.head()"
   ]
  },
  {
   "cell_type": "code",
   "execution_count": 57,
   "metadata": {},
   "outputs": [
    {
     "data": {
      "text/html": [
       "<div>\n",
       "<style scoped>\n",
       "    .dataframe tbody tr th:only-of-type {\n",
       "        vertical-align: middle;\n",
       "    }\n",
       "\n",
       "    .dataframe tbody tr th {\n",
       "        vertical-align: top;\n",
       "    }\n",
       "\n",
       "    .dataframe thead th {\n",
       "        text-align: right;\n",
       "    }\n",
       "</style>\n",
       "<table border=\"1\" class=\"dataframe\">\n",
       "  <thead>\n",
       "    <tr style=\"text-align: right;\">\n",
       "      <th></th>\n",
       "      <th>0</th>\n",
       "      <th>1</th>\n",
       "      <th>2</th>\n",
       "      <th>3</th>\n",
       "      <th>4</th>\n",
       "      <th>5</th>\n",
       "      <th>6</th>\n",
       "    </tr>\n",
       "  </thead>\n",
       "  <tbody>\n",
       "    <tr>\n",
       "      <th>476</th>\n",
       "      <td>fever</td>\n",
       "      <td>severe pneumonia</td>\n",
       "      <td>None</td>\n",
       "      <td>None</td>\n",
       "      <td>None</td>\n",
       "      <td>None</td>\n",
       "      <td>None</td>\n",
       "    </tr>\n",
       "    <tr>\n",
       "      <th>504</th>\n",
       "      <td>fever</td>\n",
       "      <td>None</td>\n",
       "      <td>None</td>\n",
       "      <td>None</td>\n",
       "      <td>None</td>\n",
       "      <td>None</td>\n",
       "      <td>None</td>\n",
       "    </tr>\n",
       "    <tr>\n",
       "      <th>756</th>\n",
       "      <td>cough</td>\n",
       "      <td>fever</td>\n",
       "      <td>sore throat</td>\n",
       "      <td>None</td>\n",
       "      <td>None</td>\n",
       "      <td>None</td>\n",
       "      <td>None</td>\n",
       "    </tr>\n",
       "    <tr>\n",
       "      <th>765</th>\n",
       "      <td>cough</td>\n",
       "      <td>fever</td>\n",
       "      <td>None</td>\n",
       "      <td>None</td>\n",
       "      <td>None</td>\n",
       "      <td>None</td>\n",
       "      <td>None</td>\n",
       "    </tr>\n",
       "    <tr>\n",
       "      <th>767</th>\n",
       "      <td>dyspnea</td>\n",
       "      <td>fever</td>\n",
       "      <td>None</td>\n",
       "      <td>None</td>\n",
       "      <td>None</td>\n",
       "      <td>None</td>\n",
       "      <td>None</td>\n",
       "    </tr>\n",
       "  </tbody>\n",
       "</table>\n",
       "</div>"
      ],
      "text/plain": [
       "           0                  1             2     3     4     5     6\n",
       "476    fever   severe pneumonia          None  None  None  None  None\n",
       "504    fever               None          None  None  None  None  None\n",
       "756    cough              fever   sore throat  None  None  None  None\n",
       "765    cough              fever          None  None  None  None  None\n",
       "767  dyspnea              fever          None  None  None  None  None"
      ]
     },
     "execution_count": 57,
     "metadata": {},
     "output_type": "execute_result"
    }
   ],
   "source": [
    "df_without_missing = symptoms_split_values[symptoms_split_values[0].notna()]\n",
    "df_without_missing.head()"
   ]
  },
  {
   "cell_type": "code",
   "execution_count": 58,
   "metadata": {},
   "outputs": [],
   "source": [
    "max_columns = symptoms_split_values.shape[1]"
   ]
  },
  {
   "cell_type": "code",
   "execution_count": 59,
   "metadata": {},
   "outputs": [],
   "source": [
    "new_columns = [f'S_{i+1}' for i in range(max_columns)]"
   ]
  },
  {
   "cell_type": "code",
   "execution_count": 60,
   "metadata": {},
   "outputs": [],
   "source": [
    "symptoms_split_values.columns = new_columns"
   ]
  },
  {
   "cell_type": "code",
   "execution_count": 61,
   "metadata": {},
   "outputs": [
    {
     "data": {
      "text/html": [
       "<div>\n",
       "<style scoped>\n",
       "    .dataframe tbody tr th:only-of-type {\n",
       "        vertical-align: middle;\n",
       "    }\n",
       "\n",
       "    .dataframe tbody tr th {\n",
       "        vertical-align: top;\n",
       "    }\n",
       "\n",
       "    .dataframe thead th {\n",
       "        text-align: right;\n",
       "    }\n",
       "</style>\n",
       "<table border=\"1\" class=\"dataframe\">\n",
       "  <thead>\n",
       "    <tr style=\"text-align: right;\">\n",
       "      <th></th>\n",
       "      <th>S_1</th>\n",
       "      <th>S_2</th>\n",
       "      <th>S_3</th>\n",
       "      <th>S_4</th>\n",
       "      <th>S_5</th>\n",
       "      <th>S_6</th>\n",
       "      <th>S_7</th>\n",
       "    </tr>\n",
       "  </thead>\n",
       "  <tbody>\n",
       "    <tr>\n",
       "      <th>476</th>\n",
       "      <td>fever</td>\n",
       "      <td>severe pneumonia</td>\n",
       "      <td>None</td>\n",
       "      <td>None</td>\n",
       "      <td>None</td>\n",
       "      <td>None</td>\n",
       "      <td>None</td>\n",
       "    </tr>\n",
       "    <tr>\n",
       "      <th>504</th>\n",
       "      <td>fever</td>\n",
       "      <td>None</td>\n",
       "      <td>None</td>\n",
       "      <td>None</td>\n",
       "      <td>None</td>\n",
       "      <td>None</td>\n",
       "      <td>None</td>\n",
       "    </tr>\n",
       "    <tr>\n",
       "      <th>756</th>\n",
       "      <td>cough</td>\n",
       "      <td>fever</td>\n",
       "      <td>sore throat</td>\n",
       "      <td>None</td>\n",
       "      <td>None</td>\n",
       "      <td>None</td>\n",
       "      <td>None</td>\n",
       "    </tr>\n",
       "    <tr>\n",
       "      <th>765</th>\n",
       "      <td>cough</td>\n",
       "      <td>fever</td>\n",
       "      <td>None</td>\n",
       "      <td>None</td>\n",
       "      <td>None</td>\n",
       "      <td>None</td>\n",
       "      <td>None</td>\n",
       "    </tr>\n",
       "    <tr>\n",
       "      <th>767</th>\n",
       "      <td>dyspnea</td>\n",
       "      <td>fever</td>\n",
       "      <td>None</td>\n",
       "      <td>None</td>\n",
       "      <td>None</td>\n",
       "      <td>None</td>\n",
       "      <td>None</td>\n",
       "    </tr>\n",
       "  </tbody>\n",
       "</table>\n",
       "</div>"
      ],
      "text/plain": [
       "         S_1                S_2           S_3   S_4   S_5   S_6   S_7\n",
       "476    fever   severe pneumonia          None  None  None  None  None\n",
       "504    fever               None          None  None  None  None  None\n",
       "756    cough              fever   sore throat  None  None  None  None\n",
       "765    cough              fever          None  None  None  None  None\n",
       "767  dyspnea              fever          None  None  None  None  None"
      ]
     },
     "execution_count": 61,
     "metadata": {},
     "output_type": "execute_result"
    }
   ],
   "source": [
    "df_without_missing = symptoms_split_values[symptoms_split_values['S_1'].notna()]\n",
    "df_without_missing.head()"
   ]
  },
  {
   "cell_type": "code",
   "execution_count": 62,
   "metadata": {},
   "outputs": [
    {
     "data": {
      "text/plain": [
       "'\\\\d'"
      ]
     },
     "execution_count": 62,
     "metadata": {},
     "output_type": "execute_result"
    }
   ],
   "source": [
    "r'\\d'"
   ]
  },
  {
   "cell_type": "code",
   "execution_count": 63,
   "metadata": {},
   "outputs": [],
   "source": [
    "columns_to_process = new_columns\n",
    "\n",
    "def replace_fever(text):\n",
    "    if pd.isna(text):  \n",
    "        return text\n",
    "    return 'fever' if re.search(r'fever', str(text), re.IGNORECASE) else text\n",
    "\n",
    "# 对每一列进行处理\n",
    "for col in columns_to_process:\n",
    "    symptoms_split_values[col] = symptoms_split_values[col].apply(replace_fever)\n",
    "\n"
   ]
  },
  {
   "cell_type": "code",
   "execution_count": 64,
   "metadata": {},
   "outputs": [],
   "source": [
    "def replace_fever(text):\n",
    "    if pd.isna(text):  \n",
    "        return text\n",
    "    return 'fever' if re.search(r'\\d', str(text), re.IGNORECASE) else text\n",
    "\n",
    "for col in columns_to_process:\n",
    "    symptoms_split_values[col] = symptoms_split_values[col].apply(replace_fever)\n"
   ]
  },
  {
   "cell_type": "code",
   "execution_count": 65,
   "metadata": {},
   "outputs": [],
   "source": [
    "all_elements = symptoms_split_values.values.ravel()"
   ]
  },
  {
   "cell_type": "code",
   "execution_count": 66,
   "metadata": {},
   "outputs": [],
   "source": [
    "all_elements_series = pd.Series(all_elements)"
   ]
  },
  {
   "cell_type": "code",
   "execution_count": 67,
   "metadata": {},
   "outputs": [
    {
     "name": "stdout",
     "output_type": "stream",
     "text": [
      "fever              895\n",
      "cough              257\n",
      " cough             146\n",
      " sore throat        70\n",
      " headache           52\n",
      "                  ... \n",
      " grasp               1\n",
      " conjunctivitis      1\n",
      " myalgias            1\n",
      "mild                 1\n",
      "Pneumonia            1\n",
      "Length: 189, dtype: int64\n"
     ]
    }
   ],
   "source": [
    "symptoms_counts = all_elements_series.value_counts()\n",
    "print(symptoms_counts)"
   ]
  },
  {
   "cell_type": "code",
   "execution_count": 68,
   "metadata": {},
   "outputs": [
    {
     "name": "stdout",
     "output_type": "stream",
     "text": [
      "['fever', 'cough', ' cough', ' sore throat', ' headache', ' malaise', ' fatigue', 'pneumonitis', ' runny nose', 'chills', ' joint pain', 'sore throat', ' phlegm', 'fatigue', ' pneumonia', ' dyspnea', ' diarrhea', ' shortness of breath', ' sputum', 'pneumonia', 'malaise', ' weakness', 'respiratory symptoms', ' myalgia', ' nasal congestion', ' muscular soreness', ' dry cough', ' weak', 'Cough', 'discomfort', 'chest tightness', ' nausea', ' general malaise', 'dry cough', 'headache', 'sneezing', 'diarrhea', 'runny nose', 'Sore throat', 'nausea', ' breathing difficulty', 'acute respiratory distress syndrome', 'chest pain', 'asymptomatic', ' muscle aches', ' throat discomfort', 'anorexia', ' rhinorrhea', ' vomiting', ' muscle soreness', ' sore muscle', 'severe pneumonia', 'dry throat', ' expectoration', 'vomiting', ' general weakness', ' chills', ' body ache', ' mialgia', ' respiratory symptoms', ' nasal discharge', ' dry mouth', ' respiratory distress', 'dyspnea', 'dizziness', 'Mild respiratory symptoms', ' dry throat', ' sneeze', 'acute respiratory failure', 'chest distress', 'colds', ' cough and sore throath', ' respiratory problems (lungs)', 'body malaise', ' sore throath', ' coriza', 'Symptoms associated with a respiratory condition', ' pharyngeal discomfort', ' pain and unwellness', 'Rhinorrhea', ' running nose', ' pleuritic chest pain', 'catarrhal symptoms', 'Respiratory', ' pleural effusion', ' chest pain', ' sneezing', ' muscular stiffness', 'physical discomfort', 'pharyngeal discomfort', 'weakness', ' discomfort', ' other symptoms', 'transient fatigue', 'Pharyngeal dryness', ' shortness breath', ' pharyngalgia', ' muscle pain', ' lack of energy', ' rhinorrhoea', ' rigor', ' sweating', 'coughing', ' eventually showed acute left heart failure and acute coronary syndrome', ' diarrhoea', ' diarrheoa', 'muscular soreness', 'pharynx', ' soreness', ' muscle ache', 'Discharge', 'anhelation', ' dizziness', ' Cough', ' dcough', ' body aches', ' abdominal pain', 'difficulty breathing', ' runny nose and tiredness', 'lethargy', ' difficulty breathing', ' cough symptoms', 'Sputum', ' difficulty walking', ' Fatigue', 'systemic weakness', ' and malaise', ' sore limbs', 'severe dyspnea', ' headache.', ' sore throa', ' sore body', ' Headache', ' cold', ' toothache', ' couh', 'rever', ' anorexia', ' joint muscle pain', 'aching muscles', ' influenza', ' rash', ' mild coughing', 'feeling ill', 'myalgia', ' inapatence', 'phlegm', ' general pain', ' vomiting.', 'minor fatigue', ' mile cough', ' mausea', ' severe pneumonia', ' coughing', 'mild cough', ' cough Difficulty breathing', 'backache', 'abdominal pain', 'breathing difficulty', ' dsypnea', ' inappetance', ' difficuty breathing', ' phlegn', 'poor physical condition', ' nasal discharge/congestion', 'mild respiratory symptoms', 'Catarrhal symptoms', 'multiple organ failure', 'Respiratory symptoms', 'Mild resipiratory symptoms', 'flu-like symptoms', 'severe respiratory failure', 'respiratory', ' asthenia', ' dysphagia', 'septic shock', 'acute renal failure', 'cardiogenic shock', 'dysphagia', 'shortness of breath', 'none', ' mild cough', ' body pain', 'Severe', ' grasp', ' conjunctivitis', ' myalgias', 'mild', 'Pneumonia']\n"
     ]
    }
   ],
   "source": [
    "symptoms_index = symptoms_counts.index.tolist()\n",
    "max_columns = len(symptoms_index)\n",
    "print(symptoms_index)"
   ]
  },
  {
   "cell_type": "code",
   "execution_count": 69,
   "metadata": {
    "scrolled": true
   },
   "outputs": [
    {
     "data": {
      "text/html": [
       "<div>\n",
       "<style scoped>\n",
       "    .dataframe tbody tr th:only-of-type {\n",
       "        vertical-align: middle;\n",
       "    }\n",
       "\n",
       "    .dataframe tbody tr th {\n",
       "        vertical-align: top;\n",
       "    }\n",
       "\n",
       "    .dataframe thead th {\n",
       "        text-align: right;\n",
       "    }\n",
       "</style>\n",
       "<table border=\"1\" class=\"dataframe\">\n",
       "  <thead>\n",
       "    <tr style=\"text-align: right;\">\n",
       "      <th></th>\n",
       "      <th>S_1</th>\n",
       "      <th>S_2</th>\n",
       "      <th>S_3</th>\n",
       "      <th>S_4</th>\n",
       "      <th>S_5</th>\n",
       "      <th>S_6</th>\n",
       "      <th>S_7</th>\n",
       "    </tr>\n",
       "  </thead>\n",
       "  <tbody>\n",
       "    <tr>\n",
       "      <th>53</th>\n",
       "      <td>NaN</td>\n",
       "      <td>NaN</td>\n",
       "      <td>NaN</td>\n",
       "      <td>NaN</td>\n",
       "      <td>NaN</td>\n",
       "      <td>NaN</td>\n",
       "      <td>NaN</td>\n",
       "    </tr>\n",
       "    <tr>\n",
       "      <th>55</th>\n",
       "      <td>NaN</td>\n",
       "      <td>NaN</td>\n",
       "      <td>NaN</td>\n",
       "      <td>NaN</td>\n",
       "      <td>NaN</td>\n",
       "      <td>NaN</td>\n",
       "      <td>NaN</td>\n",
       "    </tr>\n",
       "    <tr>\n",
       "      <th>335</th>\n",
       "      <td>NaN</td>\n",
       "      <td>NaN</td>\n",
       "      <td>NaN</td>\n",
       "      <td>NaN</td>\n",
       "      <td>NaN</td>\n",
       "      <td>NaN</td>\n",
       "      <td>NaN</td>\n",
       "    </tr>\n",
       "    <tr>\n",
       "      <th>365</th>\n",
       "      <td>NaN</td>\n",
       "      <td>NaN</td>\n",
       "      <td>NaN</td>\n",
       "      <td>NaN</td>\n",
       "      <td>NaN</td>\n",
       "      <td>NaN</td>\n",
       "      <td>NaN</td>\n",
       "    </tr>\n",
       "    <tr>\n",
       "      <th>446</th>\n",
       "      <td>NaN</td>\n",
       "      <td>NaN</td>\n",
       "      <td>NaN</td>\n",
       "      <td>NaN</td>\n",
       "      <td>NaN</td>\n",
       "      <td>NaN</td>\n",
       "      <td>NaN</td>\n",
       "    </tr>\n",
       "  </tbody>\n",
       "</table>\n",
       "</div>"
      ],
      "text/plain": [
       "     S_1  S_2  S_3  S_4  S_5  S_6  S_7\n",
       "53   NaN  NaN  NaN  NaN  NaN  NaN  NaN\n",
       "55   NaN  NaN  NaN  NaN  NaN  NaN  NaN\n",
       "335  NaN  NaN  NaN  NaN  NaN  NaN  NaN\n",
       "365  NaN  NaN  NaN  NaN  NaN  NaN  NaN\n",
       "446  NaN  NaN  NaN  NaN  NaN  NaN  NaN"
      ]
     },
     "execution_count": 69,
     "metadata": {},
     "output_type": "execute_result"
    }
   ],
   "source": [
    "symptoms_split_values.head()"
   ]
  },
  {
   "cell_type": "code",
   "execution_count": 70,
   "metadata": {},
   "outputs": [
    {
     "data": {
      "text/plain": [
       "189"
      ]
     },
     "execution_count": 70,
     "metadata": {},
     "output_type": "execute_result"
    }
   ],
   "source": [
    "max_columns"
   ]
  },
  {
   "cell_type": "code",
   "execution_count": 71,
   "metadata": {
    "scrolled": true
   },
   "outputs": [
    {
     "name": "stderr",
     "output_type": "stream",
     "text": [
      "C:\\ProgramData\\Anaconda3\\lib\\site-packages\\ipykernel_launcher.py:8: UserWarning: This pattern has match groups. To actually get the groups, use str.extract.\n",
      "  \n",
      "C:\\ProgramData\\Anaconda3\\lib\\site-packages\\ipykernel_launcher.py:9: UserWarning: This pattern has match groups. To actually get the groups, use str.extract.\n",
      "  if __name__ == '__main__':\n",
      "C:\\ProgramData\\Anaconda3\\lib\\site-packages\\ipykernel_launcher.py:9: PerformanceWarning: DataFrame is highly fragmented.  This is usually the result of calling `frame.insert` many times, which has poor performance.  Consider joining all columns at once using pd.concat(axis=1) instead.  To get a de-fragmented frame, use `newframe = frame.copy()`\n",
      "  if __name__ == '__main__':\n"
     ]
    }
   ],
   "source": [
    "for i in range(max_columns):\n",
    "    symptoms_split_values[\"symptoms_\"+symptoms_index[i]] = (\n",
    "           (symptoms_split_values['S_1'].str.contains(symptoms_index[i], case=False, na=False)) | \n",
    "           (symptoms_split_values['S_2'].str.contains(symptoms_index[i], case=False, na=False)) | \n",
    "           (symptoms_split_values['S_3'].str.contains(symptoms_index[i], case=False, na=False)) |\n",
    "           (symptoms_split_values['S_4'].str.contains(symptoms_index[i], case=False, na=False)) | \n",
    "           (symptoms_split_values['S_5'].str.contains(symptoms_index[i], case=False, na=False)) | \n",
    "           (symptoms_split_values['S_6'].str.contains(symptoms_index[i], case=False, na=False)) | \n",
    "           (symptoms_split_values['S_7'].str.contains(symptoms_index[i], case=False, na=False))).astype(int)\n"
   ]
  },
  {
   "cell_type": "code",
   "execution_count": 72,
   "metadata": {
    "scrolled": true
   },
   "outputs": [
    {
     "data": {
      "text/html": [
       "<div>\n",
       "<style scoped>\n",
       "    .dataframe tbody tr th:only-of-type {\n",
       "        vertical-align: middle;\n",
       "    }\n",
       "\n",
       "    .dataframe tbody tr th {\n",
       "        vertical-align: top;\n",
       "    }\n",
       "\n",
       "    .dataframe thead th {\n",
       "        text-align: right;\n",
       "    }\n",
       "</style>\n",
       "<table border=\"1\" class=\"dataframe\">\n",
       "  <thead>\n",
       "    <tr style=\"text-align: right;\">\n",
       "      <th></th>\n",
       "      <th>S_1</th>\n",
       "      <th>S_2</th>\n",
       "      <th>S_3</th>\n",
       "      <th>S_4</th>\n",
       "      <th>S_5</th>\n",
       "      <th>S_6</th>\n",
       "      <th>S_7</th>\n",
       "      <th>symptoms_fever</th>\n",
       "      <th>symptoms_cough</th>\n",
       "      <th>symptoms_ cough</th>\n",
       "      <th>...</th>\n",
       "      <th>symptoms_shortness of breath</th>\n",
       "      <th>symptoms_none</th>\n",
       "      <th>symptoms_ mild cough</th>\n",
       "      <th>symptoms_ body pain</th>\n",
       "      <th>symptoms_Severe</th>\n",
       "      <th>symptoms_ grasp</th>\n",
       "      <th>symptoms_ conjunctivitis</th>\n",
       "      <th>symptoms_ myalgias</th>\n",
       "      <th>symptoms_mild</th>\n",
       "      <th>symptoms_Pneumonia</th>\n",
       "    </tr>\n",
       "  </thead>\n",
       "  <tbody>\n",
       "    <tr>\n",
       "      <th>53</th>\n",
       "      <td>NaN</td>\n",
       "      <td>NaN</td>\n",
       "      <td>NaN</td>\n",
       "      <td>NaN</td>\n",
       "      <td>NaN</td>\n",
       "      <td>NaN</td>\n",
       "      <td>NaN</td>\n",
       "      <td>0</td>\n",
       "      <td>0</td>\n",
       "      <td>0</td>\n",
       "      <td>...</td>\n",
       "      <td>0</td>\n",
       "      <td>0</td>\n",
       "      <td>0</td>\n",
       "      <td>0</td>\n",
       "      <td>0</td>\n",
       "      <td>0</td>\n",
       "      <td>0</td>\n",
       "      <td>0</td>\n",
       "      <td>0</td>\n",
       "      <td>0</td>\n",
       "    </tr>\n",
       "    <tr>\n",
       "      <th>55</th>\n",
       "      <td>NaN</td>\n",
       "      <td>NaN</td>\n",
       "      <td>NaN</td>\n",
       "      <td>NaN</td>\n",
       "      <td>NaN</td>\n",
       "      <td>NaN</td>\n",
       "      <td>NaN</td>\n",
       "      <td>0</td>\n",
       "      <td>0</td>\n",
       "      <td>0</td>\n",
       "      <td>...</td>\n",
       "      <td>0</td>\n",
       "      <td>0</td>\n",
       "      <td>0</td>\n",
       "      <td>0</td>\n",
       "      <td>0</td>\n",
       "      <td>0</td>\n",
       "      <td>0</td>\n",
       "      <td>0</td>\n",
       "      <td>0</td>\n",
       "      <td>0</td>\n",
       "    </tr>\n",
       "    <tr>\n",
       "      <th>335</th>\n",
       "      <td>NaN</td>\n",
       "      <td>NaN</td>\n",
       "      <td>NaN</td>\n",
       "      <td>NaN</td>\n",
       "      <td>NaN</td>\n",
       "      <td>NaN</td>\n",
       "      <td>NaN</td>\n",
       "      <td>0</td>\n",
       "      <td>0</td>\n",
       "      <td>0</td>\n",
       "      <td>...</td>\n",
       "      <td>0</td>\n",
       "      <td>0</td>\n",
       "      <td>0</td>\n",
       "      <td>0</td>\n",
       "      <td>0</td>\n",
       "      <td>0</td>\n",
       "      <td>0</td>\n",
       "      <td>0</td>\n",
       "      <td>0</td>\n",
       "      <td>0</td>\n",
       "    </tr>\n",
       "    <tr>\n",
       "      <th>365</th>\n",
       "      <td>NaN</td>\n",
       "      <td>NaN</td>\n",
       "      <td>NaN</td>\n",
       "      <td>NaN</td>\n",
       "      <td>NaN</td>\n",
       "      <td>NaN</td>\n",
       "      <td>NaN</td>\n",
       "      <td>0</td>\n",
       "      <td>0</td>\n",
       "      <td>0</td>\n",
       "      <td>...</td>\n",
       "      <td>0</td>\n",
       "      <td>0</td>\n",
       "      <td>0</td>\n",
       "      <td>0</td>\n",
       "      <td>0</td>\n",
       "      <td>0</td>\n",
       "      <td>0</td>\n",
       "      <td>0</td>\n",
       "      <td>0</td>\n",
       "      <td>0</td>\n",
       "    </tr>\n",
       "    <tr>\n",
       "      <th>446</th>\n",
       "      <td>NaN</td>\n",
       "      <td>NaN</td>\n",
       "      <td>NaN</td>\n",
       "      <td>NaN</td>\n",
       "      <td>NaN</td>\n",
       "      <td>NaN</td>\n",
       "      <td>NaN</td>\n",
       "      <td>0</td>\n",
       "      <td>0</td>\n",
       "      <td>0</td>\n",
       "      <td>...</td>\n",
       "      <td>0</td>\n",
       "      <td>0</td>\n",
       "      <td>0</td>\n",
       "      <td>0</td>\n",
       "      <td>0</td>\n",
       "      <td>0</td>\n",
       "      <td>0</td>\n",
       "      <td>0</td>\n",
       "      <td>0</td>\n",
       "      <td>0</td>\n",
       "    </tr>\n",
       "  </tbody>\n",
       "</table>\n",
       "<p>5 rows × 196 columns</p>\n",
       "</div>"
      ],
      "text/plain": [
       "     S_1  S_2  S_3  S_4  S_5  S_6  S_7  symptoms_fever  symptoms_cough  \\\n",
       "53   NaN  NaN  NaN  NaN  NaN  NaN  NaN               0               0   \n",
       "55   NaN  NaN  NaN  NaN  NaN  NaN  NaN               0               0   \n",
       "335  NaN  NaN  NaN  NaN  NaN  NaN  NaN               0               0   \n",
       "365  NaN  NaN  NaN  NaN  NaN  NaN  NaN               0               0   \n",
       "446  NaN  NaN  NaN  NaN  NaN  NaN  NaN               0               0   \n",
       "\n",
       "     symptoms_ cough  ...  symptoms_shortness of breath  symptoms_none  \\\n",
       "53                 0  ...                             0              0   \n",
       "55                 0  ...                             0              0   \n",
       "335                0  ...                             0              0   \n",
       "365                0  ...                             0              0   \n",
       "446                0  ...                             0              0   \n",
       "\n",
       "     symptoms_ mild cough  symptoms_ body pain  symptoms_Severe  \\\n",
       "53                      0                    0                0   \n",
       "55                      0                    0                0   \n",
       "335                     0                    0                0   \n",
       "365                     0                    0                0   \n",
       "446                     0                    0                0   \n",
       "\n",
       "     symptoms_ grasp  symptoms_ conjunctivitis  symptoms_ myalgias  \\\n",
       "53                 0                         0                   0   \n",
       "55                 0                         0                   0   \n",
       "335                0                         0                   0   \n",
       "365                0                         0                   0   \n",
       "446                0                         0                   0   \n",
       "\n",
       "     symptoms_mild  symptoms_Pneumonia  \n",
       "53               0                   0  \n",
       "55               0                   0  \n",
       "335              0                   0  \n",
       "365              0                   0  \n",
       "446              0                   0  \n",
       "\n",
       "[5 rows x 196 columns]"
      ]
     },
     "execution_count": 72,
     "metadata": {},
     "output_type": "execute_result"
    }
   ],
   "source": [
    "symptoms_split_values.head()"
   ]
  },
  {
   "cell_type": "code",
   "execution_count": 73,
   "metadata": {},
   "outputs": [],
   "source": [
    "one_hot_code_symptoms = symptoms_split_values.drop(['S_1', 'S_2', 'S_3', 'S_4', 'S_5','S_6','S_7'],axis=1)"
   ]
  },
  {
   "cell_type": "code",
   "execution_count": 74,
   "metadata": {},
   "outputs": [
    {
     "data": {
      "text/html": [
       "<div>\n",
       "<style scoped>\n",
       "    .dataframe tbody tr th:only-of-type {\n",
       "        vertical-align: middle;\n",
       "    }\n",
       "\n",
       "    .dataframe tbody tr th {\n",
       "        vertical-align: top;\n",
       "    }\n",
       "\n",
       "    .dataframe thead th {\n",
       "        text-align: right;\n",
       "    }\n",
       "</style>\n",
       "<table border=\"1\" class=\"dataframe\">\n",
       "  <thead>\n",
       "    <tr style=\"text-align: right;\">\n",
       "      <th></th>\n",
       "      <th>chronic_hypertension</th>\n",
       "      <th>chronic_diabetes</th>\n",
       "      <th>chronic_asthma</th>\n",
       "      <th>chronic_ diabetes</th>\n",
       "      <th>chronic_hypertensive</th>\n",
       "      <th>chronic_hepatitis B</th>\n",
       "      <th>chronic_chronic kidney disease</th>\n",
       "      <th>chronic_hypertriglyceridemia</th>\n",
       "      <th>chronic_</th>\n",
       "      <th>chronic_ coronary bypass surgery for 2 years</th>\n",
       "      <th>...</th>\n",
       "      <th>chronic_ on dialysis</th>\n",
       "      <th>chronic_ Parkinson's disease</th>\n",
       "      <th>chronic_valvular heart disease</th>\n",
       "      <th>chronic_Diabetes</th>\n",
       "      <th>chronic_ coronary artery stenting</th>\n",
       "      <th>chronic_ diabetes for more than 20 years</th>\n",
       "      <th>chronic_hypertension for more than 20 years</th>\n",
       "      <th>chronic_ frequent ventricular premature beat (FVPB)</th>\n",
       "      <th>chronic_ coronary heart disease</th>\n",
       "      <th>chronic_Hypertension</th>\n",
       "    </tr>\n",
       "  </thead>\n",
       "  <tbody>\n",
       "    <tr>\n",
       "      <th>53</th>\n",
       "      <td>0</td>\n",
       "      <td>0</td>\n",
       "      <td>0</td>\n",
       "      <td>0</td>\n",
       "      <td>0</td>\n",
       "      <td>0</td>\n",
       "      <td>0</td>\n",
       "      <td>0</td>\n",
       "      <td>0</td>\n",
       "      <td>0</td>\n",
       "      <td>...</td>\n",
       "      <td>0</td>\n",
       "      <td>0</td>\n",
       "      <td>0</td>\n",
       "      <td>0</td>\n",
       "      <td>0</td>\n",
       "      <td>0</td>\n",
       "      <td>0</td>\n",
       "      <td>0</td>\n",
       "      <td>0</td>\n",
       "      <td>0</td>\n",
       "    </tr>\n",
       "    <tr>\n",
       "      <th>55</th>\n",
       "      <td>0</td>\n",
       "      <td>0</td>\n",
       "      <td>0</td>\n",
       "      <td>0</td>\n",
       "      <td>0</td>\n",
       "      <td>0</td>\n",
       "      <td>0</td>\n",
       "      <td>0</td>\n",
       "      <td>0</td>\n",
       "      <td>0</td>\n",
       "      <td>...</td>\n",
       "      <td>0</td>\n",
       "      <td>0</td>\n",
       "      <td>0</td>\n",
       "      <td>0</td>\n",
       "      <td>0</td>\n",
       "      <td>0</td>\n",
       "      <td>0</td>\n",
       "      <td>0</td>\n",
       "      <td>0</td>\n",
       "      <td>0</td>\n",
       "    </tr>\n",
       "    <tr>\n",
       "      <th>335</th>\n",
       "      <td>0</td>\n",
       "      <td>0</td>\n",
       "      <td>0</td>\n",
       "      <td>0</td>\n",
       "      <td>0</td>\n",
       "      <td>0</td>\n",
       "      <td>0</td>\n",
       "      <td>0</td>\n",
       "      <td>0</td>\n",
       "      <td>0</td>\n",
       "      <td>...</td>\n",
       "      <td>0</td>\n",
       "      <td>0</td>\n",
       "      <td>0</td>\n",
       "      <td>0</td>\n",
       "      <td>0</td>\n",
       "      <td>0</td>\n",
       "      <td>0</td>\n",
       "      <td>0</td>\n",
       "      <td>0</td>\n",
       "      <td>0</td>\n",
       "    </tr>\n",
       "    <tr>\n",
       "      <th>365</th>\n",
       "      <td>0</td>\n",
       "      <td>0</td>\n",
       "      <td>0</td>\n",
       "      <td>0</td>\n",
       "      <td>0</td>\n",
       "      <td>0</td>\n",
       "      <td>0</td>\n",
       "      <td>0</td>\n",
       "      <td>0</td>\n",
       "      <td>0</td>\n",
       "      <td>...</td>\n",
       "      <td>0</td>\n",
       "      <td>0</td>\n",
       "      <td>0</td>\n",
       "      <td>0</td>\n",
       "      <td>0</td>\n",
       "      <td>0</td>\n",
       "      <td>0</td>\n",
       "      <td>0</td>\n",
       "      <td>0</td>\n",
       "      <td>0</td>\n",
       "    </tr>\n",
       "    <tr>\n",
       "      <th>446</th>\n",
       "      <td>0</td>\n",
       "      <td>0</td>\n",
       "      <td>0</td>\n",
       "      <td>0</td>\n",
       "      <td>0</td>\n",
       "      <td>0</td>\n",
       "      <td>0</td>\n",
       "      <td>0</td>\n",
       "      <td>0</td>\n",
       "      <td>0</td>\n",
       "      <td>...</td>\n",
       "      <td>0</td>\n",
       "      <td>0</td>\n",
       "      <td>0</td>\n",
       "      <td>0</td>\n",
       "      <td>0</td>\n",
       "      <td>0</td>\n",
       "      <td>0</td>\n",
       "      <td>0</td>\n",
       "      <td>0</td>\n",
       "      <td>0</td>\n",
       "    </tr>\n",
       "  </tbody>\n",
       "</table>\n",
       "<p>5 rows × 29 columns</p>\n",
       "</div>"
      ],
      "text/plain": [
       "     chronic_hypertension  chronic_diabetes  chronic_asthma  \\\n",
       "53                      0                 0               0   \n",
       "55                      0                 0               0   \n",
       "335                     0                 0               0   \n",
       "365                     0                 0               0   \n",
       "446                     0                 0               0   \n",
       "\n",
       "     chronic_ diabetes  chronic_hypertensive  chronic_hepatitis B  \\\n",
       "53                   0                     0                    0   \n",
       "55                   0                     0                    0   \n",
       "335                  0                     0                    0   \n",
       "365                  0                     0                    0   \n",
       "446                  0                     0                    0   \n",
       "\n",
       "     chronic_chronic kidney disease  chronic_hypertriglyceridemia  chronic_  \\\n",
       "53                                0                             0         0   \n",
       "55                                0                             0         0   \n",
       "335                               0                             0         0   \n",
       "365                               0                             0         0   \n",
       "446                               0                             0         0   \n",
       "\n",
       "     chronic_ coronary bypass surgery for 2 years  ...  chronic_ on dialysis  \\\n",
       "53                                              0  ...                     0   \n",
       "55                                              0  ...                     0   \n",
       "335                                             0  ...                     0   \n",
       "365                                             0  ...                     0   \n",
       "446                                             0  ...                     0   \n",
       "\n",
       "     chronic_ Parkinson's disease  chronic_valvular heart disease  \\\n",
       "53                              0                               0   \n",
       "55                              0                               0   \n",
       "335                             0                               0   \n",
       "365                             0                               0   \n",
       "446                             0                               0   \n",
       "\n",
       "     chronic_Diabetes  chronic_ coronary artery stenting  \\\n",
       "53                  0                                  0   \n",
       "55                  0                                  0   \n",
       "335                 0                                  0   \n",
       "365                 0                                  0   \n",
       "446                 0                                  0   \n",
       "\n",
       "     chronic_ diabetes for more than 20 years  \\\n",
       "53                                          0   \n",
       "55                                          0   \n",
       "335                                         0   \n",
       "365                                         0   \n",
       "446                                         0   \n",
       "\n",
       "     chronic_hypertension for more than 20 years  \\\n",
       "53                                             0   \n",
       "55                                             0   \n",
       "335                                            0   \n",
       "365                                            0   \n",
       "446                                            0   \n",
       "\n",
       "     chronic_ frequent ventricular premature beat (FVPB)  \\\n",
       "53                                                   0     \n",
       "55                                                   0     \n",
       "335                                                  0     \n",
       "365                                                  0     \n",
       "446                                                  0     \n",
       "\n",
       "     chronic_ coronary heart disease  chronic_Hypertension  \n",
       "53                                 0                     0  \n",
       "55                                 0                     0  \n",
       "335                                0                     0  \n",
       "365                                0                     0  \n",
       "446                                0                     0  \n",
       "\n",
       "[5 rows x 29 columns]"
      ]
     },
     "execution_count": 74,
     "metadata": {},
     "output_type": "execute_result"
    }
   ],
   "source": [
    "one_hot_code_chronic.head()"
   ]
  },
  {
   "cell_type": "code",
   "execution_count": 75,
   "metadata": {
    "scrolled": true
   },
   "outputs": [
    {
     "data": {
      "text/html": [
       "<div>\n",
       "<style scoped>\n",
       "    .dataframe tbody tr th:only-of-type {\n",
       "        vertical-align: middle;\n",
       "    }\n",
       "\n",
       "    .dataframe tbody tr th {\n",
       "        vertical-align: top;\n",
       "    }\n",
       "\n",
       "    .dataframe thead th {\n",
       "        text-align: right;\n",
       "    }\n",
       "</style>\n",
       "<table border=\"1\" class=\"dataframe\">\n",
       "  <thead>\n",
       "    <tr style=\"text-align: right;\">\n",
       "      <th></th>\n",
       "      <th>symptoms_fever</th>\n",
       "      <th>symptoms_cough</th>\n",
       "      <th>symptoms_ cough</th>\n",
       "      <th>symptoms_ sore throat</th>\n",
       "      <th>symptoms_ headache</th>\n",
       "      <th>symptoms_ malaise</th>\n",
       "      <th>symptoms_ fatigue</th>\n",
       "      <th>symptoms_pneumonitis</th>\n",
       "      <th>symptoms_ runny nose</th>\n",
       "      <th>symptoms_chills</th>\n",
       "      <th>...</th>\n",
       "      <th>symptoms_shortness of breath</th>\n",
       "      <th>symptoms_none</th>\n",
       "      <th>symptoms_ mild cough</th>\n",
       "      <th>symptoms_ body pain</th>\n",
       "      <th>symptoms_Severe</th>\n",
       "      <th>symptoms_ grasp</th>\n",
       "      <th>symptoms_ conjunctivitis</th>\n",
       "      <th>symptoms_ myalgias</th>\n",
       "      <th>symptoms_mild</th>\n",
       "      <th>symptoms_Pneumonia</th>\n",
       "    </tr>\n",
       "  </thead>\n",
       "  <tbody>\n",
       "    <tr>\n",
       "      <th>53</th>\n",
       "      <td>0</td>\n",
       "      <td>0</td>\n",
       "      <td>0</td>\n",
       "      <td>0</td>\n",
       "      <td>0</td>\n",
       "      <td>0</td>\n",
       "      <td>0</td>\n",
       "      <td>0</td>\n",
       "      <td>0</td>\n",
       "      <td>0</td>\n",
       "      <td>...</td>\n",
       "      <td>0</td>\n",
       "      <td>0</td>\n",
       "      <td>0</td>\n",
       "      <td>0</td>\n",
       "      <td>0</td>\n",
       "      <td>0</td>\n",
       "      <td>0</td>\n",
       "      <td>0</td>\n",
       "      <td>0</td>\n",
       "      <td>0</td>\n",
       "    </tr>\n",
       "    <tr>\n",
       "      <th>55</th>\n",
       "      <td>0</td>\n",
       "      <td>0</td>\n",
       "      <td>0</td>\n",
       "      <td>0</td>\n",
       "      <td>0</td>\n",
       "      <td>0</td>\n",
       "      <td>0</td>\n",
       "      <td>0</td>\n",
       "      <td>0</td>\n",
       "      <td>0</td>\n",
       "      <td>...</td>\n",
       "      <td>0</td>\n",
       "      <td>0</td>\n",
       "      <td>0</td>\n",
       "      <td>0</td>\n",
       "      <td>0</td>\n",
       "      <td>0</td>\n",
       "      <td>0</td>\n",
       "      <td>0</td>\n",
       "      <td>0</td>\n",
       "      <td>0</td>\n",
       "    </tr>\n",
       "    <tr>\n",
       "      <th>335</th>\n",
       "      <td>0</td>\n",
       "      <td>0</td>\n",
       "      <td>0</td>\n",
       "      <td>0</td>\n",
       "      <td>0</td>\n",
       "      <td>0</td>\n",
       "      <td>0</td>\n",
       "      <td>0</td>\n",
       "      <td>0</td>\n",
       "      <td>0</td>\n",
       "      <td>...</td>\n",
       "      <td>0</td>\n",
       "      <td>0</td>\n",
       "      <td>0</td>\n",
       "      <td>0</td>\n",
       "      <td>0</td>\n",
       "      <td>0</td>\n",
       "      <td>0</td>\n",
       "      <td>0</td>\n",
       "      <td>0</td>\n",
       "      <td>0</td>\n",
       "    </tr>\n",
       "    <tr>\n",
       "      <th>365</th>\n",
       "      <td>0</td>\n",
       "      <td>0</td>\n",
       "      <td>0</td>\n",
       "      <td>0</td>\n",
       "      <td>0</td>\n",
       "      <td>0</td>\n",
       "      <td>0</td>\n",
       "      <td>0</td>\n",
       "      <td>0</td>\n",
       "      <td>0</td>\n",
       "      <td>...</td>\n",
       "      <td>0</td>\n",
       "      <td>0</td>\n",
       "      <td>0</td>\n",
       "      <td>0</td>\n",
       "      <td>0</td>\n",
       "      <td>0</td>\n",
       "      <td>0</td>\n",
       "      <td>0</td>\n",
       "      <td>0</td>\n",
       "      <td>0</td>\n",
       "    </tr>\n",
       "    <tr>\n",
       "      <th>446</th>\n",
       "      <td>0</td>\n",
       "      <td>0</td>\n",
       "      <td>0</td>\n",
       "      <td>0</td>\n",
       "      <td>0</td>\n",
       "      <td>0</td>\n",
       "      <td>0</td>\n",
       "      <td>0</td>\n",
       "      <td>0</td>\n",
       "      <td>0</td>\n",
       "      <td>...</td>\n",
       "      <td>0</td>\n",
       "      <td>0</td>\n",
       "      <td>0</td>\n",
       "      <td>0</td>\n",
       "      <td>0</td>\n",
       "      <td>0</td>\n",
       "      <td>0</td>\n",
       "      <td>0</td>\n",
       "      <td>0</td>\n",
       "      <td>0</td>\n",
       "    </tr>\n",
       "  </tbody>\n",
       "</table>\n",
       "<p>5 rows × 189 columns</p>\n",
       "</div>"
      ],
      "text/plain": [
       "     symptoms_fever  symptoms_cough  symptoms_ cough  symptoms_ sore throat  \\\n",
       "53                0               0                0                      0   \n",
       "55                0               0                0                      0   \n",
       "335               0               0                0                      0   \n",
       "365               0               0                0                      0   \n",
       "446               0               0                0                      0   \n",
       "\n",
       "     symptoms_ headache  symptoms_ malaise  symptoms_ fatigue  \\\n",
       "53                    0                  0                  0   \n",
       "55                    0                  0                  0   \n",
       "335                   0                  0                  0   \n",
       "365                   0                  0                  0   \n",
       "446                   0                  0                  0   \n",
       "\n",
       "     symptoms_pneumonitis  symptoms_ runny nose  symptoms_chills  ...  \\\n",
       "53                      0                     0                0  ...   \n",
       "55                      0                     0                0  ...   \n",
       "335                     0                     0                0  ...   \n",
       "365                     0                     0                0  ...   \n",
       "446                     0                     0                0  ...   \n",
       "\n",
       "     symptoms_shortness of breath  symptoms_none  symptoms_ mild cough  \\\n",
       "53                              0              0                     0   \n",
       "55                              0              0                     0   \n",
       "335                             0              0                     0   \n",
       "365                             0              0                     0   \n",
       "446                             0              0                     0   \n",
       "\n",
       "     symptoms_ body pain  symptoms_Severe  symptoms_ grasp  \\\n",
       "53                     0                0                0   \n",
       "55                     0                0                0   \n",
       "335                    0                0                0   \n",
       "365                    0                0                0   \n",
       "446                    0                0                0   \n",
       "\n",
       "     symptoms_ conjunctivitis  symptoms_ myalgias  symptoms_mild  \\\n",
       "53                          0                   0              0   \n",
       "55                          0                   0              0   \n",
       "335                         0                   0              0   \n",
       "365                         0                   0              0   \n",
       "446                         0                   0              0   \n",
       "\n",
       "     symptoms_Pneumonia  \n",
       "53                    0  \n",
       "55                    0  \n",
       "335                   0  \n",
       "365                   0  \n",
       "446                   0  \n",
       "\n",
       "[5 rows x 189 columns]"
      ]
     },
     "execution_count": 75,
     "metadata": {},
     "output_type": "execute_result"
    }
   ],
   "source": [
    "one_hot_code_symptoms.head()"
   ]
  },
  {
   "cell_type": "code",
   "execution_count": 76,
   "metadata": {},
   "outputs": [],
   "source": [
    "df_tocsv = pd.concat([df_last_toreg, one_hot_code_chronic], axis=1)"
   ]
  },
  {
   "cell_type": "code",
   "execution_count": 77,
   "metadata": {},
   "outputs": [],
   "source": [
    "df_tocsv = pd.concat([df_last_toreg, one_hot_code_symptoms], axis=1)"
   ]
  },
  {
   "cell_type": "code",
   "execution_count": 78,
   "metadata": {},
   "outputs": [
    {
     "data": {
      "text/html": [
       "<div>\n",
       "<style scoped>\n",
       "    .dataframe tbody tr th:only-of-type {\n",
       "        vertical-align: middle;\n",
       "    }\n",
       "\n",
       "    .dataframe tbody tr th {\n",
       "        vertical-align: top;\n",
       "    }\n",
       "\n",
       "    .dataframe thead th {\n",
       "        text-align: right;\n",
       "    }\n",
       "</style>\n",
       "<table border=\"1\" class=\"dataframe\">\n",
       "  <thead>\n",
       "    <tr style=\"text-align: right;\">\n",
       "      <th></th>\n",
       "      <th>ID</th>\n",
       "      <th>age</th>\n",
       "      <th>status</th>\n",
       "      <th>time</th>\n",
       "      <th>country</th>\n",
       "      <th>latitude</th>\n",
       "      <th>longitude</th>\n",
       "      <th>symptoms</th>\n",
       "      <th>chronic_disease_binary</th>\n",
       "      <th>chronic_disease</th>\n",
       "      <th>...</th>\n",
       "      <th>symptoms_shortness of breath</th>\n",
       "      <th>symptoms_none</th>\n",
       "      <th>symptoms_ mild cough</th>\n",
       "      <th>symptoms_ body pain</th>\n",
       "      <th>symptoms_Severe</th>\n",
       "      <th>symptoms_ grasp</th>\n",
       "      <th>symptoms_ conjunctivitis</th>\n",
       "      <th>symptoms_ myalgias</th>\n",
       "      <th>symptoms_mild</th>\n",
       "      <th>symptoms_Pneumonia</th>\n",
       "    </tr>\n",
       "  </thead>\n",
       "  <tbody>\n",
       "    <tr>\n",
       "      <th>53</th>\n",
       "      <td>000-1-10045</td>\n",
       "      <td>50</td>\n",
       "      <td>0</td>\n",
       "      <td>6.0</td>\n",
       "      <td>China</td>\n",
       "      <td>42.944450</td>\n",
       "      <td>125.176200</td>\n",
       "      <td>0</td>\n",
       "      <td>False</td>\n",
       "      <td>0</td>\n",
       "      <td>...</td>\n",
       "      <td>0</td>\n",
       "      <td>0</td>\n",
       "      <td>0</td>\n",
       "      <td>0</td>\n",
       "      <td>0</td>\n",
       "      <td>0</td>\n",
       "      <td>0</td>\n",
       "      <td>0</td>\n",
       "      <td>0</td>\n",
       "      <td>0</td>\n",
       "    </tr>\n",
       "    <tr>\n",
       "      <th>55</th>\n",
       "      <td>000-1-10047</td>\n",
       "      <td>45</td>\n",
       "      <td>0</td>\n",
       "      <td>12.0</td>\n",
       "      <td>China</td>\n",
       "      <td>43.759480</td>\n",
       "      <td>123.695600</td>\n",
       "      <td>0</td>\n",
       "      <td>False</td>\n",
       "      <td>0</td>\n",
       "      <td>...</td>\n",
       "      <td>0</td>\n",
       "      <td>0</td>\n",
       "      <td>0</td>\n",
       "      <td>0</td>\n",
       "      <td>0</td>\n",
       "      <td>0</td>\n",
       "      <td>0</td>\n",
       "      <td>0</td>\n",
       "      <td>0</td>\n",
       "      <td>0</td>\n",
       "    </tr>\n",
       "    <tr>\n",
       "      <th>335</th>\n",
       "      <td>000-1-103</td>\n",
       "      <td>79</td>\n",
       "      <td>1</td>\n",
       "      <td>30.0</td>\n",
       "      <td>Singapore</td>\n",
       "      <td>1.353873</td>\n",
       "      <td>103.860478</td>\n",
       "      <td>0</td>\n",
       "      <td>False</td>\n",
       "      <td>0</td>\n",
       "      <td>...</td>\n",
       "      <td>0</td>\n",
       "      <td>0</td>\n",
       "      <td>0</td>\n",
       "      <td>0</td>\n",
       "      <td>0</td>\n",
       "      <td>0</td>\n",
       "      <td>0</td>\n",
       "      <td>0</td>\n",
       "      <td>0</td>\n",
       "      <td>0</td>\n",
       "    </tr>\n",
       "    <tr>\n",
       "      <th>365</th>\n",
       "      <td>000-1-10326</td>\n",
       "      <td>50</td>\n",
       "      <td>0</td>\n",
       "      <td>2.0</td>\n",
       "      <td>Japan</td>\n",
       "      <td>35.450850</td>\n",
       "      <td>139.665100</td>\n",
       "      <td>0</td>\n",
       "      <td>False</td>\n",
       "      <td>0</td>\n",
       "      <td>...</td>\n",
       "      <td>0</td>\n",
       "      <td>0</td>\n",
       "      <td>0</td>\n",
       "      <td>0</td>\n",
       "      <td>0</td>\n",
       "      <td>0</td>\n",
       "      <td>0</td>\n",
       "      <td>0</td>\n",
       "      <td>0</td>\n",
       "      <td>0</td>\n",
       "    </tr>\n",
       "    <tr>\n",
       "      <th>446</th>\n",
       "      <td>000-1-104</td>\n",
       "      <td>26</td>\n",
       "      <td>1</td>\n",
       "      <td>20.0</td>\n",
       "      <td>Singapore</td>\n",
       "      <td>1.353460</td>\n",
       "      <td>103.815100</td>\n",
       "      <td>0</td>\n",
       "      <td>False</td>\n",
       "      <td>0</td>\n",
       "      <td>...</td>\n",
       "      <td>0</td>\n",
       "      <td>0</td>\n",
       "      <td>0</td>\n",
       "      <td>0</td>\n",
       "      <td>0</td>\n",
       "      <td>0</td>\n",
       "      <td>0</td>\n",
       "      <td>0</td>\n",
       "      <td>0</td>\n",
       "      <td>0</td>\n",
       "    </tr>\n",
       "  </tbody>\n",
       "</table>\n",
       "<p>5 rows × 200 columns</p>\n",
       "</div>"
      ],
      "text/plain": [
       "              ID age  status  time    country   latitude   longitude symptoms  \\\n",
       "53   000-1-10045  50       0   6.0      China  42.944450  125.176200        0   \n",
       "55   000-1-10047  45       0  12.0      China  43.759480  123.695600        0   \n",
       "335    000-1-103  79       1  30.0  Singapore   1.353873  103.860478        0   \n",
       "365  000-1-10326  50       0   2.0      Japan  35.450850  139.665100        0   \n",
       "446    000-1-104  26       1  20.0  Singapore   1.353460  103.815100        0   \n",
       "\n",
       "     chronic_disease_binary chronic_disease  ... symptoms_shortness of breath  \\\n",
       "53                    False               0  ...                            0   \n",
       "55                    False               0  ...                            0   \n",
       "335                   False               0  ...                            0   \n",
       "365                   False               0  ...                            0   \n",
       "446                   False               0  ...                            0   \n",
       "\n",
       "     symptoms_none  symptoms_ mild cough  symptoms_ body pain  \\\n",
       "53               0                     0                    0   \n",
       "55               0                     0                    0   \n",
       "335              0                     0                    0   \n",
       "365              0                     0                    0   \n",
       "446              0                     0                    0   \n",
       "\n",
       "     symptoms_Severe  symptoms_ grasp  symptoms_ conjunctivitis  \\\n",
       "53                 0                0                         0   \n",
       "55                 0                0                         0   \n",
       "335                0                0                         0   \n",
       "365                0                0                         0   \n",
       "446                0                0                         0   \n",
       "\n",
       "     symptoms_ myalgias  symptoms_mild  symptoms_Pneumonia  \n",
       "53                    0              0                   0  \n",
       "55                    0              0                   0  \n",
       "335                   0              0                   0  \n",
       "365                   0              0                   0  \n",
       "446                   0              0                   0  \n",
       "\n",
       "[5 rows x 200 columns]"
      ]
     },
     "execution_count": 78,
     "metadata": {},
     "output_type": "execute_result"
    }
   ],
   "source": [
    "df_tocsv.head()"
   ]
  },
  {
   "cell_type": "code",
   "execution_count": 79,
   "metadata": {
    "scrolled": true
   },
   "outputs": [
    {
     "data": {
      "text/plain": [
       "(260604, 200)"
      ]
     },
     "execution_count": 79,
     "metadata": {},
     "output_type": "execute_result"
    }
   ],
   "source": [
    "df_tocsv.shape"
   ]
  },
  {
   "cell_type": "code",
   "execution_count": 80,
   "metadata": {},
   "outputs": [
    {
     "data": {
      "text/plain": [
       "recovered                                                                   2671\n",
       "died                                                                         614\n",
       "discharge                                                                     98\n",
       "stable                                                                        44\n",
       "discharged                                                                    43\n",
       "death                                                                          6\n",
       "Alive                                                                          5\n",
       "Deceased                                                                       3\n",
       "Discharged                                                                     2\n",
       "severe                                                                         2\n",
       "dead                                                                           2\n",
       "Symptoms only improved with cough. Currently hospitalized for follow-up.       2\n",
       "treated in an intensive care unit (14.02.2020)                                 2\n",
       "Hospitalized                                                                   1\n",
       "Name: outcome, dtype: int64"
      ]
     },
     "execution_count": 80,
     "metadata": {},
     "output_type": "execute_result"
    }
   ],
   "source": [
    "uni_counts = df_last_toreg['outcome'].value_counts()\n",
    "\n",
    "uni_counts"
   ]
  },
  {
   "cell_type": "markdown",
   "metadata": {},
   "source": [
    "df_tocsv.to_csv('covid-19.csv', index = True)"
   ]
  },
  {
   "cell_type": "code",
   "execution_count": 82,
   "metadata": {},
   "outputs": [],
   "source": [
    "df_tocsv.to_csv('covid-19.csv', index = False, encoding='utf-8-sig')"
   ]
  },
  {
   "cell_type": "code",
   "execution_count": null,
   "metadata": {},
   "outputs": [],
   "source": []
  }
 ],
 "metadata": {
  "kernelspec": {
   "display_name": "Python 3",
   "language": "python",
   "name": "python3"
  },
  "language_info": {
   "codemirror_mode": {
    "name": "ipython",
    "version": 3
   },
   "file_extension": ".py",
   "mimetype": "text/x-python",
   "name": "python",
   "nbconvert_exporter": "python",
   "pygments_lexer": "ipython3",
   "version": "3.7.1"
  }
 },
 "nbformat": 4,
 "nbformat_minor": 2
}
